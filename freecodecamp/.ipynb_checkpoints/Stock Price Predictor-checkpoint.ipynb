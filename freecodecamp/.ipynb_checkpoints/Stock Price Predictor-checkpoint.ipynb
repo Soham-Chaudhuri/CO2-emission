{
 "cells": [
  {
   "cell_type": "markdown",
   "id": "7f8bdf18",
   "metadata": {},
   "source": [
    "# STOCK PRICE PREDICTOR"
   ]
  },
  {
   "cell_type": "code",
   "execution_count": 60,
   "id": "8d5be2d6",
   "metadata": {},
   "outputs": [],
   "source": [
    "import pandas as pd\n",
    "import numpy as np\n",
    "import matplotlib.pyplot as plt\n",
    "import seaborn as sns\n",
    "import yfinance as yf\n",
    "%matplotlib inline"
   ]
  },
  {
   "cell_type": "code",
   "execution_count": 61,
   "id": "8fde0c8f",
   "metadata": {},
   "outputs": [
    {
     "name": "stdout",
     "output_type": "stream",
     "text": [
      "Enter the code of the stocks:-MSFT\n",
      "[*********************100%***********************]  1 of 1 completed\n"
     ]
    },
    {
     "data": {
      "text/html": [
       "<div>\n",
       "<style scoped>\n",
       "    .dataframe tbody tr th:only-of-type {\n",
       "        vertical-align: middle;\n",
       "    }\n",
       "\n",
       "    .dataframe tbody tr th {\n",
       "        vertical-align: top;\n",
       "    }\n",
       "\n",
       "    .dataframe thead th {\n",
       "        text-align: right;\n",
       "    }\n",
       "</style>\n",
       "<table border=\"1\" class=\"dataframe\">\n",
       "  <thead>\n",
       "    <tr style=\"text-align: right;\">\n",
       "      <th></th>\n",
       "      <th>Open</th>\n",
       "      <th>High</th>\n",
       "      <th>Low</th>\n",
       "      <th>Close</th>\n",
       "      <th>Volume</th>\n",
       "    </tr>\n",
       "    <tr>\n",
       "      <th>Date</th>\n",
       "      <th></th>\n",
       "      <th></th>\n",
       "      <th></th>\n",
       "      <th></th>\n",
       "      <th></th>\n",
       "    </tr>\n",
       "  </thead>\n",
       "  <tbody>\n",
       "    <tr>\n",
       "      <th>2009-12-31</th>\n",
       "      <td>23.772837</td>\n",
       "      <td>23.780511</td>\n",
       "      <td>23.389156</td>\n",
       "      <td>23.389156</td>\n",
       "      <td>31929700</td>\n",
       "    </tr>\n",
       "    <tr>\n",
       "      <th>2010-01-04</th>\n",
       "      <td>23.496586</td>\n",
       "      <td>23.864919</td>\n",
       "      <td>23.473565</td>\n",
       "      <td>23.749815</td>\n",
       "      <td>38409100</td>\n",
       "    </tr>\n",
       "    <tr>\n",
       "      <th>2010-01-05</th>\n",
       "      <td>23.673076</td>\n",
       "      <td>23.864916</td>\n",
       "      <td>23.511929</td>\n",
       "      <td>23.757484</td>\n",
       "      <td>49749600</td>\n",
       "    </tr>\n",
       "    <tr>\n",
       "      <th>2010-01-06</th>\n",
       "      <td>23.696097</td>\n",
       "      <td>23.849570</td>\n",
       "      <td>23.419848</td>\n",
       "      <td>23.611689</td>\n",
       "      <td>58182400</td>\n",
       "    </tr>\n",
       "    <tr>\n",
       "      <th>2010-01-07</th>\n",
       "      <td>23.504255</td>\n",
       "      <td>23.557971</td>\n",
       "      <td>23.166617</td>\n",
       "      <td>23.366131</td>\n",
       "      <td>50559700</td>\n",
       "    </tr>\n",
       "  </tbody>\n",
       "</table>\n",
       "</div>"
      ],
      "text/plain": [
       "                 Open       High        Low      Close    Volume\n",
       "Date                                                            \n",
       "2009-12-31  23.772837  23.780511  23.389156  23.389156  31929700\n",
       "2010-01-04  23.496586  23.864919  23.473565  23.749815  38409100\n",
       "2010-01-05  23.673076  23.864916  23.511929  23.757484  49749600\n",
       "2010-01-06  23.696097  23.849570  23.419848  23.611689  58182400\n",
       "2010-01-07  23.504255  23.557971  23.166617  23.366131  50559700"
      ]
     },
     "execution_count": 61,
     "metadata": {},
     "output_type": "execute_result"
    }
   ],
   "source": [
    "stocks=input(\"Enter the code of the stocks:-\")\n",
    "data=yf.download(stocks,\"2010-01-01\",\"2022-01-01\",auto_adjust=True)\n",
    "data.head()"
   ]
  },
  {
   "cell_type": "code",
   "execution_count": 62,
   "id": "bb98301e",
   "metadata": {},
   "outputs": [
    {
     "data": {
      "text/plain": [
       "(3022, 5)"
      ]
     },
     "execution_count": 62,
     "metadata": {},
     "output_type": "execute_result"
    }
   ],
   "source": [
    "data.shape"
   ]
  },
  {
   "cell_type": "code",
   "execution_count": 63,
   "id": "e621b94d",
   "metadata": {},
   "outputs": [
    {
     "data": {
      "text/html": [
       "<div>\n",
       "<style scoped>\n",
       "    .dataframe tbody tr th:only-of-type {\n",
       "        vertical-align: middle;\n",
       "    }\n",
       "\n",
       "    .dataframe tbody tr th {\n",
       "        vertical-align: top;\n",
       "    }\n",
       "\n",
       "    .dataframe thead th {\n",
       "        text-align: right;\n",
       "    }\n",
       "</style>\n",
       "<table border=\"1\" class=\"dataframe\">\n",
       "  <thead>\n",
       "    <tr style=\"text-align: right;\">\n",
       "      <th></th>\n",
       "      <th>Open</th>\n",
       "      <th>High</th>\n",
       "      <th>Low</th>\n",
       "      <th>Close</th>\n",
       "      <th>Volume</th>\n",
       "    </tr>\n",
       "  </thead>\n",
       "  <tbody>\n",
       "    <tr>\n",
       "      <th>count</th>\n",
       "      <td>3022.000000</td>\n",
       "      <td>3022.000000</td>\n",
       "      <td>3022.000000</td>\n",
       "      <td>3022.000000</td>\n",
       "      <td>3.022000e+03</td>\n",
       "    </tr>\n",
       "    <tr>\n",
       "      <th>mean</th>\n",
       "      <td>81.190057</td>\n",
       "      <td>81.939019</td>\n",
       "      <td>80.424094</td>\n",
       "      <td>81.230491</td>\n",
       "      <td>3.857369e+07</td>\n",
       "    </tr>\n",
       "    <tr>\n",
       "      <th>std</th>\n",
       "      <td>77.034917</td>\n",
       "      <td>77.759697</td>\n",
       "      <td>76.311207</td>\n",
       "      <td>77.094737</td>\n",
       "      <td>2.200323e+07</td>\n",
       "    </tr>\n",
       "    <tr>\n",
       "      <th>min</th>\n",
       "      <td>17.881532</td>\n",
       "      <td>18.059650</td>\n",
       "      <td>17.602737</td>\n",
       "      <td>17.819584</td>\n",
       "      <td>7.425600e+06</td>\n",
       "    </tr>\n",
       "    <tr>\n",
       "      <th>25%</th>\n",
       "      <td>25.085737</td>\n",
       "      <td>25.298266</td>\n",
       "      <td>24.848019</td>\n",
       "      <td>25.082762</td>\n",
       "      <td>2.390800e+07</td>\n",
       "    </tr>\n",
       "    <tr>\n",
       "      <th>50%</th>\n",
       "      <td>46.570399</td>\n",
       "      <td>47.022875</td>\n",
       "      <td>46.063210</td>\n",
       "      <td>46.612022</td>\n",
       "      <td>3.278110e+07</td>\n",
       "    </tr>\n",
       "    <tr>\n",
       "      <th>75%</th>\n",
       "      <td>105.516250</td>\n",
       "      <td>106.647203</td>\n",
       "      <td>104.358122</td>\n",
       "      <td>105.599112</td>\n",
       "      <td>4.820708e+07</td>\n",
       "    </tr>\n",
       "    <tr>\n",
       "      <th>max</th>\n",
       "      <td>342.382969</td>\n",
       "      <td>347.400206</td>\n",
       "      <td>339.978716</td>\n",
       "      <td>340.882782</td>\n",
       "      <td>3.193179e+08</td>\n",
       "    </tr>\n",
       "  </tbody>\n",
       "</table>\n",
       "</div>"
      ],
      "text/plain": [
       "              Open         High          Low        Close        Volume\n",
       "count  3022.000000  3022.000000  3022.000000  3022.000000  3.022000e+03\n",
       "mean     81.190057    81.939019    80.424094    81.230491  3.857369e+07\n",
       "std      77.034917    77.759697    76.311207    77.094737  2.200323e+07\n",
       "min      17.881532    18.059650    17.602737    17.819584  7.425600e+06\n",
       "25%      25.085737    25.298266    24.848019    25.082762  2.390800e+07\n",
       "50%      46.570399    47.022875    46.063210    46.612022  3.278110e+07\n",
       "75%     105.516250   106.647203   104.358122   105.599112  4.820708e+07\n",
       "max     342.382969   347.400206   339.978716   340.882782  3.193179e+08"
      ]
     },
     "execution_count": 63,
     "metadata": {},
     "output_type": "execute_result"
    }
   ],
   "source": [
    "data.describe()"
   ]
  },
  {
   "cell_type": "code",
   "execution_count": 64,
   "id": "afeeb6ed",
   "metadata": {},
   "outputs": [
    {
     "name": "stdout",
     "output_type": "stream",
     "text": [
      "<class 'pandas.core.frame.DataFrame'>\n",
      "DatetimeIndex: 3022 entries, 2009-12-31 to 2021-12-31\n",
      "Data columns (total 5 columns):\n",
      " #   Column  Non-Null Count  Dtype  \n",
      "---  ------  --------------  -----  \n",
      " 0   Open    3022 non-null   float64\n",
      " 1   High    3022 non-null   float64\n",
      " 2   Low     3022 non-null   float64\n",
      " 3   Close   3022 non-null   float64\n",
      " 4   Volume  3022 non-null   int64  \n",
      "dtypes: float64(4), int64(1)\n",
      "memory usage: 141.7 KB\n"
     ]
    }
   ],
   "source": [
    "data.info()"
   ]
  },
  {
   "cell_type": "code",
   "execution_count": 65,
   "id": "f53c6b4e",
   "metadata": {},
   "outputs": [
    {
     "data": {
      "image/png": "[encoded data removed]",
      "text/plain": [
       "<Figure size 432x288 with 1 Axes>"
      ]
     },
     "metadata": {
      "needs_background": "light"
     },
     "output_type": "display_data"
    }
   ],
   "source": [
    "plt.plot(data['Close'],linewidth=1,color='k')\n",
    "plt.title(\"Price Series\")\n",
    "plt.xticks(rotation=45)\n",
    "plt.show()"
   ]
  },
  {
   "cell_type": "code",
   "execution_count": 66,
   "id": "ff2874aa",
   "metadata": {},
   "outputs": [
    {
     "name": "stderr",
     "output_type": "stream",
     "text": [
      "C:\\Users\\soham\\AppData\\Local\\Temp\\ipykernel_17796\\926939613.py:1: UserWarning: \n",
      "\n",
      "`distplot` is a deprecated function and will be removed in seaborn v0.14.0.\n",
      "\n",
      "Please adapt your code to use either `displot` (a figure-level function with\n",
      "similar flexibility) or `histplot` (an axes-level function for histograms).\n",
      "\n",
      "For a guide to updating your code to use the new functions, please see\n",
      "https://gist.github.com/mwaskom/de44147ed2974457ad6372750bbe5751\n",
      "\n",
      "  sns.distplot(data['Close'])\n"
     ]
    },
    {
     "data": {
      "image/png": "[encoded data removed]",
      "text/plain": [
       "<Figure size 432x288 with 1 Axes>"
      ]
     },
     "metadata": {
      "needs_background": "light"
     },
     "output_type": "display_data"
    },
    {
     "name": "stderr",
     "output_type": "stream",
     "text": [
      "C:\\Users\\soham\\AppData\\Local\\Temp\\ipykernel_17796\\926939613.py:3: UserWarning: \n",
      "\n",
      "`distplot` is a deprecated function and will be removed in seaborn v0.14.0.\n",
      "\n",
      "Please adapt your code to use either `displot` (a figure-level function with\n",
      "similar flexibility) or `histplot` (an axes-level function for histograms).\n",
      "\n",
      "For a guide to updating your code to use the new functions, please see\n",
      "https://gist.github.com/mwaskom/de44147ed2974457ad6372750bbe5751\n",
      "\n",
      "  sns.distplot(data['Open'])\n"
     ]
    },
    {
     "data": {
      "image/png": "[encoded data removed]",
      "text/plain": [
       "<Figure size 432x288 with 1 Axes>"
      ]
     },
     "metadata": {
      "needs_background": "light"
     },
     "output_type": "display_data"
    },
    {
     "name": "stderr",
     "output_type": "stream",
     "text": [
      "C:\\Users\\soham\\AppData\\Local\\Temp\\ipykernel_17796\\926939613.py:5: UserWarning: \n",
      "\n",
      "`distplot` is a deprecated function and will be removed in seaborn v0.14.0.\n",
      "\n",
      "Please adapt your code to use either `displot` (a figure-level function with\n",
      "similar flexibility) or `histplot` (an axes-level function for histograms).\n",
      "\n",
      "For a guide to updating your code to use the new functions, please see\n",
      "https://gist.github.com/mwaskom/de44147ed2974457ad6372750bbe5751\n",
      "\n",
      "  sns.distplot(data['High'])\n"
     ]
    },
    {
     "data": {
      "image/png": "[encoded data removed]",
      "text/plain": [
       "<Figure size 432x288 with 1 Axes>"
      ]
     },
     "metadata": {
      "needs_background": "light"
     },
     "output_type": "display_data"
    },
    {
     "name": "stderr",
     "output_type": "stream",
     "text": [
      "C:\\Users\\soham\\AppData\\Local\\Temp\\ipykernel_17796\\926939613.py:7: UserWarning: \n",
      "\n",
      "`distplot` is a deprecated function and will be removed in seaborn v0.14.0.\n",
      "\n",
      "Please adapt your code to use either `displot` (a figure-level function with\n",
      "similar flexibility) or `histplot` (an axes-level function for histograms).\n",
      "\n",
      "For a guide to updating your code to use the new functions, please see\n",
      "https://gist.github.com/mwaskom/de44147ed2974457ad6372750bbe5751\n",
      "\n",
      "  sns.distplot(data['Low'])\n"
     ]
    },
    {
     "data": {
      "image/png": "[encoded data removed]",
      "text/plain": [
       "<Figure size 432x288 with 1 Axes>"
      ]
     },
     "metadata": {
      "needs_background": "light"
     },
     "output_type": "display_data"
    }
   ],
   "source": [
    "sns.distplot(data['Close'])\n",
    "plt.show()\n",
    "sns.distplot(data['Open'])\n",
    "plt.show()\n",
    "sns.distplot(data['High'])\n",
    "plt.show()\n",
    "sns.distplot(data['Low'])\n",
    "plt.show()"
   ]
  },
  {
   "cell_type": "code",
   "execution_count": 67,
   "id": "87f8c540",
   "metadata": {},
   "outputs": [],
   "source": [
    "x=data.drop('Close',axis=1)\n",
    "y=data['Close']"
   ]
  },
  {
   "cell_type": "code",
   "execution_count": 68,
   "id": "25eb3391",
   "metadata": {},
   "outputs": [],
   "source": [
    "from sklearn.model_selection import train_test_split\n",
    "x_train,x_test,y_train,y_test=train_test_split(x,y,test_size=0.2,random_state=0)"
   ]
  },
  {
   "cell_type": "code",
   "execution_count": 69,
   "id": "8a599826",
   "metadata": {},
   "outputs": [
    {
     "name": "stdout",
     "output_type": "stream",
     "text": [
      "0.9999515173551609\n",
      "0.5579242757130173\n"
     ]
    }
   ],
   "source": [
    "from sklearn.linear_model import LinearRegression\n",
    "lr=LinearRegression()\n",
    "lr.fit(x_train,y_train)\n",
    "predictions=lr.predict(x_test)\n",
    "from sklearn.metrics import mean_squared_error,r2_score\n",
    "mse=mean_squared_error(y_test,predictions)\n",
    "rmse=np.sqrt(mse)\n",
    "print(r2_score(y_test,predictions))\n",
    "print(rmse)"
   ]
  },
  {
   "cell_type": "code",
   "execution_count": 70,
   "id": "e0186246",
   "metadata": {},
   "outputs": [
    {
     "name": "stderr",
     "output_type": "stream",
     "text": [
      "C:\\Users\\soham\\AppData\\Local\\Programs\\Python\\Python310\\lib\\site-packages\\sklearn\\linear_model\\_coordinate_descent.py:648: ConvergenceWarning: Objective did not converge. You might want to increase the number of iterations, check the scale of the features or consider increasing regularisation. Duality gap: 1.932e+03, tolerance: 1.407e+03\n",
      "  model = cd_fast.enet_coordinate_descent(\n"
     ]
    }
   ],
   "source": [
    "from sklearn.linear_model import Lasso,Ridge\n",
    "la=Lasso().fit(x_train,y_train)\n",
    "ri=Ridge().fit(x_train,y_train)"
   ]
  },
  {
   "cell_type": "code",
   "execution_count": 71,
   "id": "309ad758",
   "metadata": {},
   "outputs": [
    {
     "name": "stdout",
     "output_type": "stream",
     "text": [
      "0.9997699591510099\n",
      "1.2153030487648038\n"
     ]
    }
   ],
   "source": [
    "predictions_la=la.predict(x_test)\n",
    "mse=mean_squared_error(y_test,predictions_la)\n",
    "rmse=np.sqrt(mse)\n",
    "print(r2_score(y_test,predictions_la))\n",
    "print(rmse)"
   ]
  },
  {
   "cell_type": "code",
   "execution_count": 72,
   "id": "fb9d9b07",
   "metadata": {},
   "outputs": [
    {
     "name": "stdout",
     "output_type": "stream",
     "text": [
      "0.999951513143832\n",
      "0.5579485065645385\n"
     ]
    }
   ],
   "source": [
    "predictions_ri=ri.predict(x_test)\n",
    "mse=mean_squared_error(y_test,predictions_ri)\n",
    "rmse=np.sqrt(mse)\n",
    "print(r2_score(y_test,predictions_ri))\n",
    "print(rmse)"
   ]
  },
  {
   "cell_type": "code",
   "execution_count": 73,
   "id": "35fd0ab0",
   "metadata": {},
   "outputs": [],
   "source": [
    "from sklearn.svm import SVR\n",
    "svr=SVR(C=10,gamma=0.01,kernel='rbf')"
   ]
  },
  {
   "cell_type": "code",
   "execution_count": 74,
   "id": "396344f1",
   "metadata": {},
   "outputs": [
    {
     "name": "stdout",
     "output_type": "stream",
     "text": [
      "-0.17139827293691767\n",
      "86.72302061966879\n"
     ]
    }
   ],
   "source": [
    "svr.fit(x_train,y_train)\n",
    "predictions_svr=svr.predict(x_test)\n",
    "mse=mean_squared_error(y_test,predictions_svr)\n",
    "rmse=np.sqrt(mse)\n",
    "print(r2_score(y_test,predictions_svr))\n",
    "print(rmse)"
   ]
  },
  {
   "cell_type": "markdown",
   "id": "2ffd36c5",
   "metadata": {},
   "source": [
    "# R2_SCORE IS USED FOR JUDGING VARIOUS MODELS IF THE SCORE IS ~1 THEN IT IS BETTER"
   ]
  },
  {
   "cell_type": "code",
   "execution_count": 75,
   "id": "fd33c626",
   "metadata": {},
   "outputs": [],
   "source": [
    "# import joblib\n",
    "# joblib.dump(ri,'model.pkl')\n",
    "# ridge_from_joblib=model=joblib.load('model.pkl')"
   ]
  },
  {
   "cell_type": "code",
   "execution_count": null,
   "id": "3a2b25d5",
   "metadata": {},
   "outputs": [],
   "source": []
  }
 ],
 "metadata": {
  "kernelspec": {
   "display_name": "Python 3 (ipykernel)",
   "language": "python",
   "name": "python3"
  },
  "language_info": {
   "codemirror_mode": {
    "name": "ipython",
    "version": 3
   },
   "file_extension": ".py",
   "mimetype": "text/x-python",
   "name": "python",
   "nbconvert_exporter": "python",
   "pygments_lexer": "ipython3",
   "version": "3.10.6"
  }
 },
 "nbformat": 4,
 "nbformat_minor": 5
}
