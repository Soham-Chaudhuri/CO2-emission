{
 "cells": [
  {
   "cell_type": "code",
   "execution_count": 133,
   "id": "4a28ea2d",
   "metadata": {},
   "outputs": [],
   "source": [
    "import numpy as np"
   ]
  },
  {
   "cell_type": "code",
   "execution_count": 134,
   "id": "36dd947e",
   "metadata": {},
   "outputs": [],
   "source": [
    "a=np.array([1,2,3,5,7])"
   ]
  },
  {
   "cell_type": "code",
   "execution_count": 135,
   "id": "06c4c3bd",
   "metadata": {},
   "outputs": [],
   "source": [
    "b=np.array([2,3,5],dtype='float')"
   ]
  },
  {
   "cell_type": "code",
   "execution_count": 136,
   "id": "dc367fd5",
   "metadata": {},
   "outputs": [
    {
     "name": "stdout",
     "output_type": "stream",
     "text": [
      "[1 2 3 5 7]\n"
     ]
    }
   ],
   "source": [
    "print(a)"
   ]
  },
  {
   "cell_type": "code",
   "execution_count": 137,
   "id": "6b07bdd3",
   "metadata": {},
   "outputs": [
    {
     "data": {
      "text/plain": [
       "numpy.ndarray"
      ]
     },
     "execution_count": 137,
     "metadata": {},
     "output_type": "execute_result"
    }
   ],
   "source": [
    "type(a)"
   ]
  },
  {
   "cell_type": "code",
   "execution_count": 138,
   "id": "055aa5fb",
   "metadata": {},
   "outputs": [
    {
     "data": {
      "text/plain": [
       "dtype('int32')"
      ]
     },
     "execution_count": 138,
     "metadata": {},
     "output_type": "execute_result"
    }
   ],
   "source": [
    "a.dtype"
   ]
  },
  {
   "cell_type": "code",
   "execution_count": 139,
   "id": "b52ba7c6",
   "metadata": {},
   "outputs": [
    {
     "data": {
      "text/plain": [
       "dtype('float64')"
      ]
     },
     "execution_count": 139,
     "metadata": {},
     "output_type": "execute_result"
    }
   ],
   "source": [
    "b.dtype"
   ]
  },
  {
   "cell_type": "code",
   "execution_count": 140,
   "id": "8161169b",
   "metadata": {},
   "outputs": [],
   "source": [
    "c=np.array([[1,2,3],[4,5,6]])"
   ]
  },
  {
   "cell_type": "code",
   "execution_count": 141,
   "id": "4023b35b",
   "metadata": {},
   "outputs": [
    {
     "data": {
      "text/plain": [
       "2"
      ]
     },
     "execution_count": 141,
     "metadata": {},
     "output_type": "execute_result"
    }
   ],
   "source": [
    "c.ndim"
   ]
  },
  {
   "cell_type": "code",
   "execution_count": 142,
   "id": "7d85891a",
   "metadata": {},
   "outputs": [
    {
     "data": {
      "text/plain": [
       "3"
      ]
     },
     "execution_count": 142,
     "metadata": {},
     "output_type": "execute_result"
    }
   ],
   "source": [
    "c[0,2]"
   ]
  },
  {
   "cell_type": "code",
   "execution_count": 143,
   "id": "ffe1cb32",
   "metadata": {},
   "outputs": [
    {
     "data": {
      "text/plain": [
       "numpy.ndarray"
      ]
     },
     "execution_count": 143,
     "metadata": {},
     "output_type": "execute_result"
    }
   ],
   "source": [
    "type(c)"
   ]
  },
  {
   "cell_type": "code",
   "execution_count": 144,
   "id": "d4c7d5b0",
   "metadata": {},
   "outputs": [
    {
     "data": {
      "text/plain": [
       "(2, 3)"
      ]
     },
     "execution_count": 144,
     "metadata": {},
     "output_type": "execute_result"
    }
   ],
   "source": [
    "c.shape"
   ]
  },
  {
   "cell_type": "code",
   "execution_count": 145,
   "id": "b4b09230",
   "metadata": {},
   "outputs": [
    {
     "data": {
      "text/plain": [
       "6"
      ]
     },
     "execution_count": 145,
     "metadata": {},
     "output_type": "execute_result"
    }
   ],
   "source": [
    "c.size"
   ]
  },
  {
   "cell_type": "code",
   "execution_count": 146,
   "id": "fd0218e7",
   "metadata": {},
   "outputs": [
    {
     "data": {
      "text/plain": [
       "24"
      ]
     },
     "execution_count": 146,
     "metadata": {},
     "output_type": "execute_result"
    }
   ],
   "source": [
    "c.nbytes"
   ]
  },
  {
   "cell_type": "code",
   "execution_count": 147,
   "id": "3addca4c",
   "metadata": {},
   "outputs": [],
   "source": [
    "d=np.arange(50,100,3) #similar to function"
   ]
  },
  {
   "cell_type": "code",
   "execution_count": 148,
   "id": "2cbaef2b",
   "metadata": {},
   "outputs": [
    {
     "name": "stdout",
     "output_type": "stream",
     "text": [
      "[50 53 56 59 62 65 68 71 74 77 80 83 86 89 92 95 98]\n"
     ]
    }
   ],
   "source": [
    "print(d)"
   ]
  },
  {
   "cell_type": "code",
   "execution_count": 149,
   "id": "7d605f14",
   "metadata": {},
   "outputs": [
    {
     "name": "stdout",
     "output_type": "stream",
     "text": [
      "[3 8 9 0 4 7 2 1 5 6]\n"
     ]
    }
   ],
   "source": [
    "e=np.random.permutation(np.arange(10))\n",
    "print(e)"
   ]
  },
  {
   "cell_type": "code",
   "execution_count": 150,
   "id": "9b3687ae",
   "metadata": {},
   "outputs": [
    {
     "name": "stdout",
     "output_type": "stream",
     "text": [
      "208\n"
     ]
    }
   ],
   "source": [
    "v=np.random.randint(0,1000)\n",
    "print(v)"
   ]
  },
  {
   "cell_type": "code",
   "execution_count": 151,
   "id": "7e16c5c2",
   "metadata": {},
   "outputs": [],
   "source": [
    "f=np.random.rand(100)"
   ]
  },
  {
   "cell_type": "code",
   "execution_count": 152,
   "id": "2cc185a4",
   "metadata": {},
   "outputs": [
    {
     "name": "stdout",
     "output_type": "stream",
     "text": [
      "[0.86066577 0.506353   0.28925133 0.88774999 0.09981217 0.48692696\n",
      " 0.55561245 0.02432008 0.33424164 0.26191006 0.06296828 0.19945714\n",
      " 0.08331718 0.36227337 0.16819076 0.3678723  0.93078649 0.60685217\n",
      " 0.64082848 0.15221842 0.62619662 0.79577517 0.04706282 0.92432109\n",
      " 0.57627154 0.22778399 0.06619443 0.73301412 0.13970318 0.18508573\n",
      " 0.3313052  0.93115048 0.37442591 0.01160496 0.49231441 0.70491843\n",
      " 0.73585847 0.02337933 0.2105221  0.52491802 0.34787146 0.57248244\n",
      " 0.44297551 0.11414427 0.56745083 0.1017911  0.18057262 0.7455855\n",
      " 0.88556951 0.02920226 0.18854634 0.25523771 0.90209208 0.82427843\n",
      " 0.68696233 0.49411404 0.80281437 0.69338662 0.34442375 0.45336777\n",
      " 0.01055595 0.10315306 0.00137843 0.57556773 0.95225241 0.01768207\n",
      " 0.91090123 0.23427153 0.36010836 0.9317494  0.64002738 0.23835801\n",
      " 0.57233158 0.14313327 0.60341579 0.93177121 0.24529712 0.77009389\n",
      " 0.19497679 0.86707566 0.23023744 0.55219034 0.58129577 0.3042777\n",
      " 0.67723476 0.56560343 0.87842024 0.21385813 0.0362085  0.22159742\n",
      " 0.75678571 0.57804059 0.74087027 0.78203158 0.11383918 0.68750205\n",
      " 0.09664934 0.31592101 0.63650727 0.21789582]\n"
     ]
    }
   ],
   "source": [
    "print(f)"
   ]
  },
  {
   "cell_type": "code",
   "execution_count": 153,
   "id": "14be588a",
   "metadata": {},
   "outputs": [],
   "source": [
    "import matplotlib.pyplot as plt"
   ]
  },
  {
   "cell_type": "code",
   "execution_count": 154,
   "id": "81c76d45",
   "metadata": {},
   "outputs": [
    {
     "data": {
      "text/plain": [
       "(array([12., 13., 13., 11.,  2.,  9., 12., 10.,  5., 13.]),\n",
       " array([0.00137843, 0.09646583, 0.19155323, 0.28664062, 0.38172802,\n",
       "        0.47681542, 0.57190282, 0.66699022, 0.76207762, 0.85716502,\n",
       "        0.95225241]),\n",
       " <BarContainer object of 10 artists>)"
      ]
     },
     "execution_count": 154,
     "metadata": {},
     "output_type": "execute_result"
    },
    {
     "data": {
      "image/png": "[encoded data removed]",
      "text/plain": [
       "<Figure size 432x288 with 1 Axes>"
      ]
     },
     "metadata": {
      "needs_background": "light"
     },
     "output_type": "display_data"
    }
   ],
   "source": [
    "plt.hist(f,bins=10)"
   ]
  },
  {
   "cell_type": "code",
   "execution_count": 155,
   "id": "1d5282b3",
   "metadata": {},
   "outputs": [
    {
     "data": {
      "text/plain": [
       "(array([  1.,   1.,   1.,   0.,   0.,   0.,   0.,   0.,   0.,   0.,   0.,\n",
       "          0.,   0.,   0.,   0.,   0.,   0.,   0.,   0.,   0.,   0.,   0.,\n",
       "          0.,   0.,   0.,   0.,   0.,   0.,   0.,   0.,   0.,   0.,   0.,\n",
       "          1.,   0.,   0.,   0.,   1.,   0.,   0.,   0.,   0.,   0.,   0.,\n",
       "          0.,   0.,   1.,   3.,   2.,   1.,   0.,   1.,   0.,   0.,   1.,\n",
       "          2.,   2.,   0.,   1.,   2.,   0.,   1.,   3.,   1.,   2.,   4.,\n",
       "          2.,   6.,   4.,   0.,   5.,   3.,   2.,   3.,   7.,   6.,   4.,\n",
       "          4.,   6.,   7.,   4.,   4.,   5.,   2.,   5.,   3.,  10.,  10.,\n",
       "          6.,  11.,  13.,   8.,   6.,   5.,  15.,  10.,  10.,  10.,  11.,\n",
       "         11.,  14.,  10.,  11.,  19.,  17.,  19.,  15.,  16.,  19.,  16.,\n",
       "         21.,  23.,  18.,  25.,  21.,  19.,  34.,  34.,  27.,  27.,  30.,\n",
       "         30.,  20.,  34.,  37.,  36.,  31.,  25.,  36.,  44.,  35.,  45.,\n",
       "         42.,  40.,  42.,  35.,  35.,  36.,  34.,  47.,  41.,  47.,  46.,\n",
       "         47.,  50.,  54.,  52.,  51.,  57.,  44.,  58.,  48.,  64.,  65.,\n",
       "         65.,  65.,  53.,  63.,  44.,  60.,  60.,  73.,  67.,  78.,  63.,\n",
       "         69.,  67.,  69.,  70.,  83.,  73.,  69.,  68.,  69.,  74.,  97.,\n",
       "         83.,  75.,  77.,  79.,  61.,  81.,  79.,  79.,  80.,  85.,  80.,\n",
       "         76.,  85.,  91., 103.,  85.,  77.,  73.,  75.,  93.,  83.,  64.,\n",
       "         61.,  78.,  93.,  87.,  84.,  80.,  94.,  81.,  61.,  81.,  91.,\n",
       "         69.,  79.,  79.,  72.,  68.,  81.,  76.,  69.,  75.,  71.,  76.,\n",
       "         62.,  72.,  69.,  68.,  72.,  62.,  64.,  71.,  48.,  70.,  69.,\n",
       "         74.,  46.,  52.,  45.,  37.,  69.,  58.,  44.,  53.,  50.,  46.,\n",
       "         48.,  57.,  51.,  48.,  47.,  49.,  35.,  43.,  47.,  41.,  44.,\n",
       "         35.,  34.,  28.,  36.,  49.,  37.,  28.,  40.,  38.,  28.,  29.,\n",
       "         27.,  28.,  23.,  37.,  18.,  18.,  18.,  25.,  25.,  15.,  21.,\n",
       "         18.,  18.,  23.,  19.,  15.,  12.,  19.,  21.,  12.,  14.,  21.,\n",
       "         11.,  12.,   7.,  19.,  10.,  13.,   9.,  14.,  12.,   6.,   6.,\n",
       "          7.,   4.,   9.,   3.,   6.,   8.,  10.,  12.,   5.,   4.,   7.,\n",
       "          7.,   5.,   6.,   3.,   5.,   4.,   5.,   3.,   4.,   3.,   7.,\n",
       "         10.,   2.,   1.,   1.,   4.,   3.,   1.,   3.,   1.,   1.,   2.,\n",
       "          1.,   1.,   3.,   0.,   3.,   2.,   2.,   1.,   0.,   1.,   0.,\n",
       "          0.,   0.,   1.,   0.,   1.,   0.,   1.,   1.,   1.,   0.,   0.,\n",
       "          0.,   0.,   0.,   0.,   1.,   0.,   0.,   0.,   0.,   0.,   0.,\n",
       "          0.,   0.,   0.,   0.,   0.,   0.,   0.,   0.,   0.,   0.,   0.,\n",
       "          0.,   0.,   0.,   0.,   0.,   0.,   0.,   0.,   0.,   2.,   0.,\n",
       "          0.,   0.,   0.,   0.,   0.,   0.,   0.,   0.,   0.,   0.,   0.,\n",
       "          0.,   0.,   0.,   1.]),\n",
       " array([-3.94928735e+00, -3.92881568e+00, -3.90834401e+00, -3.88787235e+00,\n",
       "        -3.86740068e+00, -3.84692902e+00, -3.82645735e+00, -3.80598568e+00,\n",
       "        -3.78551402e+00, -3.76504235e+00, -3.74457069e+00, -3.72409902e+00,\n",
       "        -3.70362736e+00, -3.68315569e+00, -3.66268402e+00, -3.64221236e+00,\n",
       "        -3.62174069e+00, -3.60126903e+00, -3.58079736e+00, -3.56032570e+00,\n",
       "        -3.53985403e+00, -3.51938236e+00, -3.49891070e+00, -3.47843903e+00,\n",
       "        -3.45796737e+00, -3.43749570e+00, -3.41702404e+00, -3.39655237e+00,\n",
       "        -3.37608070e+00, -3.35560904e+00, -3.33513737e+00, -3.31466571e+00,\n",
       "        -3.29419404e+00, -3.27372238e+00, -3.25325071e+00, -3.23277904e+00,\n",
       "        -3.21230738e+00, -3.19183571e+00, -3.17136405e+00, -3.15089238e+00,\n",
       "        -3.13042072e+00, -3.10994905e+00, -3.08947738e+00, -3.06900572e+00,\n",
       "        -3.04853405e+00, -3.02806239e+00, -3.00759072e+00, -2.98711906e+00,\n",
       "        -2.96664739e+00, -2.94617572e+00, -2.92570406e+00, -2.90523239e+00,\n",
       "        -2.88476073e+00, -2.86428906e+00, -2.84381740e+00, -2.82334573e+00,\n",
       "        -2.80287406e+00, -2.78240240e+00, -2.76193073e+00, -2.74145907e+00,\n",
       "        -2.72098740e+00, -2.70051574e+00, -2.68004407e+00, -2.65957240e+00,\n",
       "        -2.63910074e+00, -2.61862907e+00, -2.59815741e+00, -2.57768574e+00,\n",
       "        -2.55721408e+00, -2.53674241e+00, -2.51627074e+00, -2.49579908e+00,\n",
       "        -2.47532741e+00, -2.45485575e+00, -2.43438408e+00, -2.41391242e+00,\n",
       "        -2.39344075e+00, -2.37296908e+00, -2.35249742e+00, -2.33202575e+00,\n",
       "        -2.31155409e+00, -2.29108242e+00, -2.27061076e+00, -2.25013909e+00,\n",
       "        -2.22966742e+00, -2.20919576e+00, -2.18872409e+00, -2.16825243e+00,\n",
       "        -2.14778076e+00, -2.12730910e+00, -2.10683743e+00, -2.08636576e+00,\n",
       "        -2.06589410e+00, -2.04542243e+00, -2.02495077e+00, -2.00447910e+00,\n",
       "        -1.98400744e+00, -1.96353577e+00, -1.94306410e+00, -1.92259244e+00,\n",
       "        -1.90212077e+00, -1.88164911e+00, -1.86117744e+00, -1.84070578e+00,\n",
       "        -1.82023411e+00, -1.79976244e+00, -1.77929078e+00, -1.75881911e+00,\n",
       "        -1.73834745e+00, -1.71787578e+00, -1.69740412e+00, -1.67693245e+00,\n",
       "        -1.65646078e+00, -1.63598912e+00, -1.61551745e+00, -1.59504579e+00,\n",
       "        -1.57457412e+00, -1.55410246e+00, -1.53363079e+00, -1.51315912e+00,\n",
       "        -1.49268746e+00, -1.47221579e+00, -1.45174413e+00, -1.43127246e+00,\n",
       "        -1.41080080e+00, -1.39032913e+00, -1.36985746e+00, -1.34938580e+00,\n",
       "        -1.32891413e+00, -1.30844247e+00, -1.28797080e+00, -1.26749913e+00,\n",
       "        -1.24702747e+00, -1.22655580e+00, -1.20608414e+00, -1.18561247e+00,\n",
       "        -1.16514081e+00, -1.14466914e+00, -1.12419747e+00, -1.10372581e+00,\n",
       "        -1.08325414e+00, -1.06278248e+00, -1.04231081e+00, -1.02183915e+00,\n",
       "        -1.00136748e+00, -9.80895815e-01, -9.60424149e-01, -9.39952483e-01,\n",
       "        -9.19480818e-01, -8.99009152e-01, -8.78537486e-01, -8.58065820e-01,\n",
       "        -8.37594155e-01, -8.17122489e-01, -7.96650823e-01, -7.76179158e-01,\n",
       "        -7.55707492e-01, -7.35235826e-01, -7.14764160e-01, -6.94292495e-01,\n",
       "        -6.73820829e-01, -6.53349163e-01, -6.32877497e-01, -6.12405832e-01,\n",
       "        -5.91934166e-01, -5.71462500e-01, -5.50990835e-01, -5.30519169e-01,\n",
       "        -5.10047503e-01, -4.89575837e-01, -4.69104172e-01, -4.48632506e-01,\n",
       "        -4.28160840e-01, -4.07689174e-01, -3.87217509e-01, -3.66745843e-01,\n",
       "        -3.46274177e-01, -3.25802512e-01, -3.05330846e-01, -2.84859180e-01,\n",
       "        -2.64387514e-01, -2.43915849e-01, -2.23444183e-01, -2.02972517e-01,\n",
       "        -1.82500851e-01, -1.62029186e-01, -1.41557520e-01, -1.21085854e-01,\n",
       "        -1.00614189e-01, -8.01425228e-02, -5.96708571e-02, -3.91991914e-02,\n",
       "        -1.87275256e-02,  1.74414008e-03,  2.22158058e-02,  4.26874715e-02,\n",
       "         6.31591373e-02,  8.36308030e-02,  1.04102469e-01,  1.24574134e-01,\n",
       "         1.45045800e-01,  1.65517466e-01,  1.85989132e-01,  2.06460797e-01,\n",
       "         2.26932463e-01,  2.47404129e-01,  2.67875795e-01,  2.88347460e-01,\n",
       "         3.08819126e-01,  3.29290792e-01,  3.49762457e-01,  3.70234123e-01,\n",
       "         3.90705789e-01,  4.11177455e-01,  4.31649120e-01,  4.52120786e-01,\n",
       "         4.72592452e-01,  4.93064118e-01,  5.13535783e-01,  5.34007449e-01,\n",
       "         5.54479115e-01,  5.74950780e-01,  5.95422446e-01,  6.15894112e-01,\n",
       "         6.36365778e-01,  6.56837443e-01,  6.77309109e-01,  6.97780775e-01,\n",
       "         7.18252440e-01,  7.38724106e-01,  7.59195772e-01,  7.79667438e-01,\n",
       "         8.00139103e-01,  8.20610769e-01,  8.41082435e-01,  8.61554101e-01,\n",
       "         8.82025766e-01,  9.02497432e-01,  9.22969098e-01,  9.43440763e-01,\n",
       "         9.63912429e-01,  9.84384095e-01,  1.00485576e+00,  1.02532743e+00,\n",
       "         1.04579909e+00,  1.06627076e+00,  1.08674242e+00,  1.10721409e+00,\n",
       "         1.12768576e+00,  1.14815742e+00,  1.16862909e+00,  1.18910075e+00,\n",
       "         1.20957242e+00,  1.23004408e+00,  1.25051575e+00,  1.27098742e+00,\n",
       "         1.29145908e+00,  1.31193075e+00,  1.33240241e+00,  1.35287408e+00,\n",
       "         1.37334574e+00,  1.39381741e+00,  1.41428908e+00,  1.43476074e+00,\n",
       "         1.45523241e+00,  1.47570407e+00,  1.49617574e+00,  1.51664740e+00,\n",
       "         1.53711907e+00,  1.55759074e+00,  1.57806240e+00,  1.59853407e+00,\n",
       "         1.61900573e+00,  1.63947740e+00,  1.65994906e+00,  1.68042073e+00,\n",
       "         1.70089240e+00,  1.72136406e+00,  1.74183573e+00,  1.76230739e+00,\n",
       "         1.78277906e+00,  1.80325072e+00,  1.82372239e+00,  1.84419406e+00,\n",
       "         1.86466572e+00,  1.88513739e+00,  1.90560905e+00,  1.92608072e+00,\n",
       "         1.94655238e+00,  1.96702405e+00,  1.98749572e+00,  2.00796738e+00,\n",
       "         2.02843905e+00,  2.04891071e+00,  2.06938238e+00,  2.08985404e+00,\n",
       "         2.11032571e+00,  2.13079738e+00,  2.15126904e+00,  2.17174071e+00,\n",
       "         2.19221237e+00,  2.21268404e+00,  2.23315570e+00,  2.25362737e+00,\n",
       "         2.27409904e+00,  2.29457070e+00,  2.31504237e+00,  2.33551403e+00,\n",
       "         2.35598570e+00,  2.37645736e+00,  2.39692903e+00,  2.41740070e+00,\n",
       "         2.43787236e+00,  2.45834403e+00,  2.47881569e+00,  2.49928736e+00,\n",
       "         2.51975902e+00,  2.54023069e+00,  2.56070236e+00,  2.58117402e+00,\n",
       "         2.60164569e+00,  2.62211735e+00,  2.64258902e+00,  2.66306068e+00,\n",
       "         2.68353235e+00,  2.70400402e+00,  2.72447568e+00,  2.74494735e+00,\n",
       "         2.76541901e+00,  2.78589068e+00,  2.80636234e+00,  2.82683401e+00,\n",
       "         2.84730568e+00,  2.86777734e+00,  2.88824901e+00,  2.90872067e+00,\n",
       "         2.92919234e+00,  2.94966400e+00,  2.97013567e+00,  2.99060734e+00,\n",
       "         3.01107900e+00,  3.03155067e+00,  3.05202233e+00,  3.07249400e+00,\n",
       "         3.09296566e+00,  3.11343733e+00,  3.13390900e+00,  3.15438066e+00,\n",
       "         3.17485233e+00,  3.19532399e+00,  3.21579566e+00,  3.23626732e+00,\n",
       "         3.25673899e+00,  3.27721066e+00,  3.29768232e+00,  3.31815399e+00,\n",
       "         3.33862565e+00,  3.35909732e+00,  3.37956898e+00,  3.40004065e+00,\n",
       "         3.42051232e+00,  3.44098398e+00,  3.46145565e+00,  3.48192731e+00,\n",
       "         3.50239898e+00,  3.52287064e+00,  3.54334231e+00,  3.56381398e+00,\n",
       "         3.58428564e+00,  3.60475731e+00,  3.62522897e+00,  3.64570064e+00,\n",
       "         3.66617231e+00,  3.68664397e+00,  3.70711564e+00,  3.72758730e+00,\n",
       "         3.74805897e+00,  3.76853063e+00,  3.78900230e+00,  3.80947397e+00,\n",
       "         3.82994563e+00,  3.85041730e+00,  3.87088896e+00,  3.89136063e+00,\n",
       "         3.91183229e+00,  3.93230396e+00,  3.95277563e+00,  3.97324729e+00,\n",
       "         3.99371896e+00,  4.01419062e+00,  4.03466229e+00,  4.05513395e+00,\n",
       "         4.07560562e+00,  4.09607729e+00,  4.11654895e+00,  4.13702062e+00,\n",
       "         4.15749228e+00,  4.17796395e+00,  4.19843561e+00,  4.21890728e+00,\n",
       "         4.23937895e+00]),\n",
       " <BarContainer object of 400 artists>)"
      ]
     },
     "execution_count": 155,
     "metadata": {},
     "output_type": "execute_result"
    },
    {
     "data": {
      "image/png": "[encoded data removed]",
      "text/plain": [
       "<Figure size 432x288 with 1 Axes>"
      ]
     },
     "metadata": {
      "needs_background": "light"
     },
     "output_type": "display_data"
    }
   ],
   "source": [
    "g=np.random.randn(10000)\n",
    "plt.hist(g,bins=400)"
   ]
  },
  {
   "cell_type": "code",
   "execution_count": 156,
   "id": "4a2d4717",
   "metadata": {},
   "outputs": [
    {
     "data": {
      "text/plain": [
       "array([[0.62304783, 0.91672782, 0.74169363],\n",
       "       [0.29690146, 0.1736576 , 0.65073081]])"
      ]
     },
     "execution_count": 156,
     "metadata": {},
     "output_type": "execute_result"
    }
   ],
   "source": [
    "h=np.random.rand(2,3)\n",
    "h"
   ]
  },
  {
   "cell_type": "code",
   "execution_count": 157,
   "id": "48a882f3",
   "metadata": {},
   "outputs": [
    {
     "data": {
      "text/plain": [
       "2"
      ]
     },
     "execution_count": 157,
     "metadata": {},
     "output_type": "execute_result"
    }
   ],
   "source": [
    "h.ndim"
   ]
  },
  {
   "cell_type": "code",
   "execution_count": 158,
   "id": "84879f78",
   "metadata": {},
   "outputs": [
    {
     "name": "stdout",
     "output_type": "stream",
     "text": [
      "[[0.62304783 0.91672782 0.74169363]\n",
      " [0.29690146 0.1736576  0.65073081]]\n"
     ]
    }
   ],
   "source": [
    "print(h)"
   ]
  },
  {
   "cell_type": "code",
   "execution_count": 159,
   "id": "fb164768",
   "metadata": {},
   "outputs": [],
   "source": [
    "i=np.arange(100).reshape(4,25)"
   ]
  },
  {
   "cell_type": "code",
   "execution_count": 160,
   "id": "e167c61d",
   "metadata": {},
   "outputs": [
    {
     "data": {
      "text/plain": [
       "(4, 25)"
      ]
     },
     "execution_count": 160,
     "metadata": {},
     "output_type": "execute_result"
    }
   ],
   "source": [
    "i.shape"
   ]
  },
  {
   "cell_type": "code",
   "execution_count": 161,
   "id": "ae4b1a52",
   "metadata": {},
   "outputs": [
    {
     "name": "stdout",
     "output_type": "stream",
     "text": [
      "[[ 0  1  2  3  4  5  6  7  8  9 10 11 12 13 14 15 16 17 18 19 20 21 22 23\n",
      "  24]\n",
      " [25 26 27 28 29 30 31 32 33 34 35 36 37 38 39 40 41 42 43 44 45 46 47 48\n",
      "  49]\n",
      " [50 51 52 53 54 55 56 57 58 59 60 61 62 63 64 65 66 67 68 69 70 71 72 73\n",
      "  74]\n",
      " [75 76 77 78 79 80 81 82 83 84 85 86 87 88 89 90 91 92 93 94 95 96 97 98\n",
      "  99]]\n"
     ]
    }
   ],
   "source": [
    "print(i)"
   ]
  },
  {
   "cell_type": "code",
   "execution_count": 162,
   "id": "40adc343",
   "metadata": {},
   "outputs": [],
   "source": [
    "i=np.arange(100).reshape(4,5,5)"
   ]
  },
  {
   "cell_type": "code",
   "execution_count": 163,
   "id": "9b37eb0b",
   "metadata": {},
   "outputs": [
    {
     "name": "stdout",
     "output_type": "stream",
     "text": [
      "[[[ 0  1  2  3  4]\n",
      "  [ 5  6  7  8  9]\n",
      "  [10 11 12 13 14]\n",
      "  [15 16 17 18 19]\n",
      "  [20 21 22 23 24]]\n",
      "\n",
      " [[25 26 27 28 29]\n",
      "  [30 31 32 33 34]\n",
      "  [35 36 37 38 39]\n",
      "  [40 41 42 43 44]\n",
      "  [45 46 47 48 49]]\n",
      "\n",
      " [[50 51 52 53 54]\n",
      "  [55 56 57 58 59]\n",
      "  [60 61 62 63 64]\n",
      "  [65 66 67 68 69]\n",
      "  [70 71 72 73 74]]\n",
      "\n",
      " [[75 76 77 78 79]\n",
      "  [80 81 82 83 84]\n",
      "  [85 86 87 88 89]\n",
      "  [90 91 92 93 94]\n",
      "  [95 96 97 98 99]]]\n"
     ]
    }
   ],
   "source": [
    "print(i)"
   ]
  },
  {
   "cell_type": "code",
   "execution_count": 164,
   "id": "17a6f593",
   "metadata": {},
   "outputs": [],
   "source": [
    "np.zeros?"
   ]
  },
  {
   "cell_type": "code",
   "execution_count": 165,
   "id": "8dc6e5e3",
   "metadata": {},
   "outputs": [],
   "source": [
    "#np.ones?\n",
    "#np.like?\n",
    "#other functions to generate matrix fast and test our algo"
   ]
  },
  {
   "cell_type": "code",
   "execution_count": 166,
   "id": "d13b901a",
   "metadata": {},
   "outputs": [],
   "source": [
    "j=np.arange(100)"
   ]
  },
  {
   "cell_type": "code",
   "execution_count": 167,
   "id": "dced4cc1",
   "metadata": {},
   "outputs": [],
   "source": [
    "k=j[3:10]"
   ]
  },
  {
   "cell_type": "code",
   "execution_count": 168,
   "id": "4df48ad2",
   "metadata": {},
   "outputs": [
    {
     "name": "stdout",
     "output_type": "stream",
     "text": [
      "[3 4 5 6 7 8 9]\n"
     ]
    }
   ],
   "source": [
    "print(k)"
   ]
  },
  {
   "cell_type": "code",
   "execution_count": 169,
   "id": "8a372118",
   "metadata": {},
   "outputs": [],
   "source": [
    "k[0]=-1200"
   ]
  },
  {
   "cell_type": "code",
   "execution_count": 170,
   "id": "c8a4188b",
   "metadata": {},
   "outputs": [
    {
     "data": {
      "text/plain": [
       "array([-1200,     4,     5,     6,     7,     8,     9])"
      ]
     },
     "execution_count": 170,
     "metadata": {},
     "output_type": "execute_result"
    }
   ],
   "source": [
    "k"
   ]
  },
  {
   "cell_type": "code",
   "execution_count": 171,
   "id": "e5363e7f",
   "metadata": {},
   "outputs": [
    {
     "data": {
      "text/plain": [
       "array([    0,     1,     2, -1200,     4,     5,     6,     7,     8,\n",
       "           9,    10,    11,    12,    13,    14,    15,    16,    17,\n",
       "          18,    19,    20,    21,    22,    23,    24,    25,    26,\n",
       "          27,    28,    29,    30,    31,    32,    33,    34,    35,\n",
       "          36,    37,    38,    39,    40,    41,    42,    43,    44,\n",
       "          45,    46,    47,    48,    49,    50,    51,    52,    53,\n",
       "          54,    55,    56,    57,    58,    59,    60,    61,    62,\n",
       "          63,    64,    65,    66,    67,    68,    69,    70,    71,\n",
       "          72,    73,    74,    75,    76,    77,    78,    79,    80,\n",
       "          81,    82,    83,    84,    85,    86,    87,    88,    89,\n",
       "          90,    91,    92,    93,    94,    95,    96,    97,    98,\n",
       "          99])"
      ]
     },
     "execution_count": 171,
     "metadata": {},
     "output_type": "execute_result"
    }
   ],
   "source": [
    "j"
   ]
  },
  {
   "cell_type": "code",
   "execution_count": 172,
   "id": "3cbef94f",
   "metadata": {},
   "outputs": [
    {
     "data": {
      "text/plain": [
       "array([-1200,     4,     5,     6,     7,     8,     9])"
      ]
     },
     "execution_count": 172,
     "metadata": {},
     "output_type": "execute_result"
    }
   ],
   "source": [
    "k=j[3:10].copy()\n",
    "k"
   ]
  },
  {
   "cell_type": "code",
   "execution_count": 173,
   "id": "da2d1f51",
   "metadata": {},
   "outputs": [
    {
     "data": {
      "text/plain": [
       "array([ 0,  4,  8, 12, 16, 20, 24, 28, 32, 36, 40, 44, 48, 52, 56, 60, 64,\n",
       "       68, 72, 76, 80, 84, 88, 92, 96])"
      ]
     },
     "execution_count": 173,
     "metadata": {},
     "output_type": "execute_result"
    }
   ],
   "source": [
    "j[::4]"
   ]
  },
  {
   "cell_type": "code",
   "execution_count": 174,
   "id": "52b518d4",
   "metadata": {},
   "outputs": [
    {
     "data": {
      "text/plain": [
       "array([   99,    95,    91,    87,    83,    79,    75,    71,    67,\n",
       "          63,    59,    55,    51,    47,    43,    39,    35,    31,\n",
       "          27,    23,    19,    15,    11,     7, -1200])"
      ]
     },
     "execution_count": 174,
     "metadata": {},
     "output_type": "execute_result"
    }
   ],
   "source": [
    "j[::-4]"
   ]
  },
  {
   "cell_type": "code",
   "execution_count": 175,
   "id": "5f5d5418",
   "metadata": {},
   "outputs": [
    {
     "data": {
      "text/plain": [
       "array([   99,    98,    97,    96,    95,    94,    93,    92,    91,\n",
       "          90,    89,    88,    87,    86,    85,    84,    83,    82,\n",
       "          81,    80,    79,    78,    77,    76,    75,    74,    73,\n",
       "          72,    71,    70,    69,    68,    67,    66,    65,    64,\n",
       "          63,    62,    61,    60,    59,    58,    57,    56,    55,\n",
       "          54,    53,    52,    51,    50,    49,    48,    47,    46,\n",
       "          45,    44,    43,    42,    41,    40,    39,    38,    37,\n",
       "          36,    35,    34,    33,    32,    31,    30,    29,    28,\n",
       "          27,    26,    25,    24,    23,    22,    21,    20,    19,\n",
       "          18,    17,    16,    15,    14,    13,    12,    11,    10,\n",
       "           9,     8,     7,     6,     5,     4, -1200,     2,     1,\n",
       "           0])"
      ]
     },
     "execution_count": 175,
     "metadata": {},
     "output_type": "execute_result"
    }
   ],
   "source": [
    "j[::-1]"
   ]
  },
  {
   "cell_type": "code",
   "execution_count": 176,
   "id": "f8c6f10e",
   "metadata": {},
   "outputs": [
    {
     "data": {
      "text/plain": [
       "array([0, 0, 0, 3, 0, 0, 0, 0, 0, 0, 0, 0, 0, 0, 0, 0, 0, 0, 0, 0, 0, 0,\n",
       "       0, 0, 0, 0, 0, 0, 0, 0, 0, 0, 0, 0, 0, 0, 0, 0, 0, 0, 0, 0, 0, 0,\n",
       "       0, 0, 0, 0, 0, 0, 0, 0, 0, 0, 0, 0, 0, 0, 0, 0, 0, 0, 0, 0, 0, 0,\n",
       "       0, 0, 0, 0, 0, 0, 0, 0, 0, 0, 0, 0, 0, 0, 0, 0, 0, 0, 0, 0, 0, 0,\n",
       "       0, 0, 0, 0, 0, 0, 0, 0, 0, 0, 0, 0])"
      ]
     },
     "execution_count": 176,
     "metadata": {},
     "output_type": "execute_result"
    }
   ],
   "source": [
    "l=(j==-1200)*np.arange(j.size)\n",
    "l"
   ]
  },
  {
   "cell_type": "code",
   "execution_count": 177,
   "id": "f25ea23b",
   "metadata": {},
   "outputs": [
    {
     "data": {
      "text/plain": [
       "array([    0,     1,     2, -1200,     4,     5,     6,     7,     8,\n",
       "           9,    10,    11,    12,    13,    14,    15,    16,    17,\n",
       "          18,    19,    20,    21,    22,    23,    24,    25,    26,\n",
       "          27,    28,    29,    30,    31,    32,    33,    34,    35,\n",
       "          36,    37,    38,    39,    40,    41,    42,    43,    44,\n",
       "          45,    46,    47,    48,    49,    50,    51,    52,    53,\n",
       "          54,    55,    56,    57,    58,    59,    60,    61,    62,\n",
       "          63,    64,    65,    66,    67,    68,    69,    70,    71,\n",
       "          72,    73,    74,    75,    76,    77,    78,    79,    80,\n",
       "          81,    82,    83,    84,    85,    86,    87,    88,    89,\n",
       "          90,    91,    92,    93,    94,    95,    96,    97,    98,\n",
       "          99])"
      ]
     },
     "execution_count": 177,
     "metadata": {},
     "output_type": "execute_result"
    }
   ],
   "source": [
    "j"
   ]
  },
  {
   "cell_type": "code",
   "execution_count": 178,
   "id": "87c4903f",
   "metadata": {},
   "outputs": [
    {
     "data": {
      "text/plain": [
       "3"
      ]
     },
     "execution_count": 178,
     "metadata": {},
     "output_type": "execute_result"
    }
   ],
   "source": [
    "idx=np.argwhere(j==-1200)[0][0]\n",
    "idx"
   ]
  },
  {
   "cell_type": "code",
   "execution_count": 179,
   "id": "e750d6f8",
   "metadata": {},
   "outputs": [
    {
     "data": {
      "text/plain": [
       "array([ 0,  1,  2,  3,  4,  5,  6,  7,  8,  9, 10, 11, 12, 13, 14, 15, 16,\n",
       "       17, 18, 19, 20, 21, 22, 23, 24, 25, 26, 27, 28, 29, 30, 31, 32, 33,\n",
       "       34, 35, 36, 37, 38, 39, 40, 41, 42, 43, 44, 45, 46, 47, 48, 49, 50,\n",
       "       51, 52, 53, 54, 55, 56, 57, 58, 59, 60, 61, 62, 63, 64, 65, 66, 67,\n",
       "       68, 69, 70, 71, 72, 73, 74, 75, 76, 77, 78, 79, 80, 81, 82, 83, 84,\n",
       "       85, 86, 87, 88, 89, 90, 91, 92, 93, 94, 95, 96, 97, 98, 99])"
      ]
     },
     "execution_count": 179,
     "metadata": {},
     "output_type": "execute_result"
    }
   ],
   "source": [
    "j[idx]=3\n",
    "j"
   ]
  },
  {
   "cell_type": "code",
   "execution_count": 180,
   "id": "efed2de0",
   "metadata": {},
   "outputs": [
    {
     "data": {
      "text/plain": [
       "array([[ 2.,  6.,  9.,  9.],\n",
       "       [ 5.,  5.,  8.,  9.],\n",
       "       [ 5.,  2.,  9.,  8.],\n",
       "       [ 8.,  7., 10.,  5.],\n",
       "       [ 4.,  0.,  8.,  9.]])"
      ]
     },
     "execution_count": 180,
     "metadata": {},
     "output_type": "execute_result"
    }
   ],
   "source": [
    "j=np.round(10*np.random.rand(5,4))\n",
    "j"
   ]
  },
  {
   "cell_type": "code",
   "execution_count": 181,
   "id": "72598091",
   "metadata": {},
   "outputs": [
    {
     "data": {
      "text/plain": [
       "9.0"
      ]
     },
     "execution_count": 181,
     "metadata": {},
     "output_type": "execute_result"
    }
   ],
   "source": [
    "j[0,2]"
   ]
  },
  {
   "cell_type": "code",
   "execution_count": 182,
   "id": "b546b4d6",
   "metadata": {},
   "outputs": [
    {
     "data": {
      "text/plain": [
       "array([5., 5., 8., 9.])"
      ]
     },
     "execution_count": 182,
     "metadata": {},
     "output_type": "execute_result"
    }
   ],
   "source": [
    "j[1,:]"
   ]
  },
  {
   "cell_type": "code",
   "execution_count": 183,
   "id": "14a364c0",
   "metadata": {},
   "outputs": [
    {
     "data": {
      "text/plain": [
       "array([[8., 9.],\n",
       "       [9., 8.]])"
      ]
     },
     "execution_count": 183,
     "metadata": {},
     "output_type": "execute_result"
    }
   ],
   "source": [
    "j[1:3,2:4]"
   ]
  },
  {
   "cell_type": "code",
   "execution_count": 184,
   "id": "4340c998",
   "metadata": {},
   "outputs": [
    {
     "data": {
      "text/plain": [
       "array([[ 2.,  5.,  5.,  8.,  4.],\n",
       "       [ 6.,  5.,  2.,  7.,  0.],\n",
       "       [ 9.,  8.,  9., 10.,  8.],\n",
       "       [ 9.,  9.,  8.,  5.,  9.]])"
      ]
     },
     "execution_count": 184,
     "metadata": {},
     "output_type": "execute_result"
    }
   ],
   "source": [
    "j.T"
   ]
  },
  {
   "cell_type": "code",
   "execution_count": 185,
   "id": "92fde32a",
   "metadata": {},
   "outputs": [],
   "source": [
    "import numpy.linalg as la"
   ]
  },
  {
   "cell_type": "code",
   "execution_count": 186,
   "id": "c8eaddc5",
   "metadata": {},
   "outputs": [
    {
     "data": {
      "text/plain": [
       "array([[ 3.48738197, -0.55133538, -1.52271825],\n",
       "       [ 2.36916029,  0.81516445, -2.48755212],\n",
       "       [-4.25389923,  0.64612424,  3.29830606]])"
      ]
     },
     "execution_count": 186,
     "metadata": {},
     "output_type": "execute_result"
    }
   ],
   "source": [
    "la.inv(np.random.rand(3,3))"
   ]
  },
  {
   "cell_type": "code",
   "execution_count": 187,
   "id": "9644cefd",
   "metadata": {},
   "outputs": [
    {
     "data": {
      "text/plain": [
       "array([[ 2.,  6.,  9.,  9.],\n",
       "       [ 5.,  5.,  8.,  9.],\n",
       "       [ 5.,  2.,  9.,  8.],\n",
       "       [ 8.,  7., 10.,  5.],\n",
       "       [ 4.,  0.,  8.,  9.]])"
      ]
     },
     "execution_count": 187,
     "metadata": {},
     "output_type": "execute_result"
    }
   ],
   "source": [
    "j"
   ]
  },
  {
   "cell_type": "code",
   "execution_count": 188,
   "id": "e6b1a038",
   "metadata": {},
   "outputs": [],
   "source": [
    "j.sort(axis=0)"
   ]
  },
  {
   "cell_type": "code",
   "execution_count": 189,
   "id": "ae5c1aee",
   "metadata": {},
   "outputs": [
    {
     "data": {
      "text/plain": [
       "array([[ 2.,  0.,  8.,  5.],\n",
       "       [ 4.,  2.,  8.,  8.],\n",
       "       [ 5.,  5.,  9.,  9.],\n",
       "       [ 5.,  6.,  9.,  9.],\n",
       "       [ 8.,  7., 10.,  9.]])"
      ]
     },
     "execution_count": 189,
     "metadata": {},
     "output_type": "execute_result"
    }
   ],
   "source": [
    "j"
   ]
  },
  {
   "cell_type": "code",
   "execution_count": 190,
   "id": "ce3323a6",
   "metadata": {},
   "outputs": [],
   "source": [
    "j.sort(axis=1)"
   ]
  },
  {
   "cell_type": "code",
   "execution_count": 191,
   "id": "bba9d2f7",
   "metadata": {},
   "outputs": [
    {
     "data": {
      "text/plain": [
       "array([[ 0.,  2.,  5.,  8.],\n",
       "       [ 2.,  4.,  8.,  8.],\n",
       "       [ 5.,  5.,  9.,  9.],\n",
       "       [ 5.,  6.,  9.,  9.],\n",
       "       [ 7.,  8.,  9., 10.]])"
      ]
     },
     "execution_count": 191,
     "metadata": {},
     "output_type": "execute_result"
    }
   ],
   "source": [
    "j"
   ]
  },
  {
   "cell_type": "code",
   "execution_count": 192,
   "id": "bc964c71",
   "metadata": {},
   "outputs": [],
   "source": [
    "j=j+5"
   ]
  },
  {
   "cell_type": "code",
   "execution_count": 193,
   "id": "e7238aa3",
   "metadata": {},
   "outputs": [
    {
     "data": {
      "text/plain": [
       "array([[ 5.,  7., 10., 13.],\n",
       "       [ 7.,  9., 13., 13.],\n",
       "       [10., 10., 14., 14.],\n",
       "       [10., 11., 14., 14.],\n",
       "       [12., 13., 14., 15.]])"
      ]
     },
     "execution_count": 193,
     "metadata": {},
     "output_type": "execute_result"
    }
   ],
   "source": [
    "j"
   ]
  },
  {
   "cell_type": "code",
   "execution_count": 194,
   "id": "4538361d",
   "metadata": {},
   "outputs": [],
   "source": [
    "#universal functions are very powerful"
   ]
  },
  {
   "cell_type": "code",
   "execution_count": 195,
   "id": "79ab9c4c",
   "metadata": {},
   "outputs": [],
   "source": [
    "j=np.round(10*np.random.rand(2,3))"
   ]
  },
  {
   "cell_type": "code",
   "execution_count": 196,
   "id": "ecfd67e3",
   "metadata": {},
   "outputs": [
    {
     "data": {
      "text/plain": [
       "array([[5., 2., 4.],\n",
       "       [8., 8., 1.]])"
      ]
     },
     "execution_count": 196,
     "metadata": {},
     "output_type": "execute_result"
    }
   ],
   "source": [
    "j"
   ]
  },
  {
   "cell_type": "code",
   "execution_count": 197,
   "id": "1936bcb8",
   "metadata": {},
   "outputs": [
    {
     "data": {
      "text/plain": [
       "array([[5., 3.],\n",
       "       [8., 7.]])"
      ]
     },
     "execution_count": 197,
     "metadata": {},
     "output_type": "execute_result"
    }
   ],
   "source": [
    "m=np.round(10*np.random.rand(2,2))\n",
    "m"
   ]
  },
  {
   "cell_type": "code",
   "execution_count": 198,
   "id": "3b46eb29",
   "metadata": {},
   "outputs": [
    {
     "data": {
      "text/plain": [
       "array([[5., 2., 4., 5., 3.],\n",
       "       [8., 8., 1., 8., 7.]])"
      ]
     },
     "execution_count": 198,
     "metadata": {},
     "output_type": "execute_result"
    }
   ],
   "source": [
    "n=np.hstack((j,m))\n",
    "n"
   ]
  },
  {
   "cell_type": "code",
   "execution_count": 199,
   "id": "ef0273e4",
   "metadata": {},
   "outputs": [
    {
     "data": {
      "text/plain": [
       "array([10.,  1.,  6.,  8.,  0.,  4.,  4.,  9.,  8.,  2.])"
      ]
     },
     "execution_count": 199,
     "metadata": {},
     "output_type": "execute_result"
    }
   ],
   "source": [
    "m=np.round(10*np.random.rand(10))\n",
    "m"
   ]
  },
  {
   "cell_type": "code",
   "execution_count": 200,
   "id": "d0be0c56",
   "metadata": {},
   "outputs": [],
   "source": [
    "m.sort()"
   ]
  },
  {
   "cell_type": "code",
   "execution_count": 201,
   "id": "a082ae5a",
   "metadata": {},
   "outputs": [
    {
     "data": {
      "text/plain": [
       "array([ 0.,  1.,  2.,  4.,  4.,  6.,  8.,  8.,  9., 10.])"
      ]
     },
     "execution_count": 201,
     "metadata": {},
     "output_type": "execute_result"
    }
   ],
   "source": [
    "m"
   ]
  },
  {
   "cell_type": "code",
   "execution_count": 202,
   "id": "690b11bf",
   "metadata": {},
   "outputs": [],
   "source": [
    "m=m[::-1]"
   ]
  },
  {
   "cell_type": "code",
   "execution_count": 203,
   "id": "7e69b01e",
   "metadata": {},
   "outputs": [
    {
     "data": {
      "text/plain": [
       "array([10.,  9.,  8.,  8.,  6.,  4.,  4.,  2.,  1.,  0.])"
      ]
     },
     "execution_count": 203,
     "metadata": {},
     "output_type": "execute_result"
    }
   ],
   "source": [
    "m"
   ]
  },
  {
   "cell_type": "code",
   "execution_count": 204,
   "id": "36708b5d",
   "metadata": {},
   "outputs": [],
   "source": [
    "#sort can also use in alphabetical order"
   ]
  },
  {
   "cell_type": "code",
   "execution_count": 205,
   "id": "bf19be55",
   "metadata": {},
   "outputs": [
    {
     "name": "stdout",
     "output_type": "stream",
     "text": [
      "7.65 ms ± 186 µs per loop (mean ± std. dev. of 7 runs, 100 loops each)\n",
      "47.3 µs ± 6.62 µs per loop (mean ± std. dev. of 7 runs, 10,000 loops each)\n"
     ]
    }
   ],
   "source": [
    "m=np.random.rand(100000)\n",
    "%timeit sum(m)\n",
    "%timeit np.sum(m)"
   ]
  },
  {
   "cell_type": "code",
   "execution_count": 206,
   "id": "a36e36f7",
   "metadata": {},
   "outputs": [],
   "source": [
    "def mysum(G):\n",
    "    s=0\n",
    "    for x in G:\n",
    "        s+=x\n",
    "    return s"
   ]
  },
  {
   "cell_type": "code",
   "execution_count": 207,
   "id": "522df5a9",
   "metadata": {},
   "outputs": [
    {
     "name": "stdout",
     "output_type": "stream",
     "text": [
      "10.6 ms ± 1.12 ms per loop (mean ± std. dev. of 7 runs, 100 loops each)\n"
     ]
    }
   ],
   "source": [
    "%timeit mysum(m)"
   ]
  },
  {
   "cell_type": "code",
   "execution_count": 208,
   "id": "e0dac1bb",
   "metadata": {},
   "outputs": [],
   "source": [
    "import pandas as pd"
   ]
  },
  {
   "cell_type": "code",
   "execution_count": 209,
   "id": "2a266a32",
   "metadata": {},
   "outputs": [
    {
     "name": "stdout",
     "output_type": "stream",
     "text": [
      "1.4.3\n"
     ]
    }
   ],
   "source": [
    "print(pd.__version__)"
   ]
  },
  {
   "cell_type": "code",
   "execution_count": 210,
   "id": "fbbc60ed",
   "metadata": {},
   "outputs": [],
   "source": [
    "A=pd.Series([2,3,4,5],index=['a','b','c','d'])"
   ]
  },
  {
   "cell_type": "code",
   "execution_count": 211,
   "id": "616e8397",
   "metadata": {},
   "outputs": [
    {
     "data": {
      "text/plain": [
       "array([2, 3, 4, 5], dtype=int64)"
      ]
     },
     "execution_count": 211,
     "metadata": {},
     "output_type": "execute_result"
    }
   ],
   "source": [
    "A.values"
   ]
  },
  {
   "cell_type": "code",
   "execution_count": 212,
   "id": "a4a27683",
   "metadata": {},
   "outputs": [
    {
     "data": {
      "text/plain": [
       "numpy.ndarray"
      ]
     },
     "execution_count": 212,
     "metadata": {},
     "output_type": "execute_result"
    }
   ],
   "source": [
    "type(A.values)"
   ]
  },
  {
   "cell_type": "code",
   "execution_count": 213,
   "id": "28d62e7d",
   "metadata": {},
   "outputs": [
    {
     "data": {
      "text/plain": [
       "pandas.core.series.Series"
      ]
     },
     "execution_count": 213,
     "metadata": {},
     "output_type": "execute_result"
    }
   ],
   "source": [
    "type(A)"
   ]
  },
  {
   "cell_type": "code",
   "execution_count": 214,
   "id": "7d2d8f82",
   "metadata": {},
   "outputs": [
    {
     "data": {
      "text/plain": [
       "Index(['a', 'b', 'c', 'd'], dtype='object')"
      ]
     },
     "execution_count": 214,
     "metadata": {},
     "output_type": "execute_result"
    }
   ],
   "source": [
    "A.index"
   ]
  },
  {
   "cell_type": "code",
   "execution_count": 215,
   "id": "c6fe1281",
   "metadata": {},
   "outputs": [
    {
     "data": {
      "text/plain": [
       "2"
      ]
     },
     "execution_count": 215,
     "metadata": {},
     "output_type": "execute_result"
    }
   ],
   "source": [
    "A['a']"
   ]
  },
  {
   "cell_type": "code",
   "execution_count": 216,
   "id": "181f6117",
   "metadata": {},
   "outputs": [
    {
     "data": {
      "text/plain": [
       "a    2\n",
       "b    3\n",
       "c    4\n",
       "dtype: int64"
      ]
     },
     "execution_count": 216,
     "metadata": {},
     "output_type": "execute_result"
    }
   ],
   "source": [
    "A['a':'c']"
   ]
  },
  {
   "cell_type": "code",
   "execution_count": 217,
   "id": "06cebc1a",
   "metadata": {},
   "outputs": [
    {
     "data": {
      "text/html": [
       "<div>\n",
       "<style scoped>\n",
       "    .dataframe tbody tr th:only-of-type {\n",
       "        vertical-align: middle;\n",
       "    }\n",
       "\n",
       "    .dataframe tbody tr th {\n",
       "        vertical-align: top;\n",
       "    }\n",
       "\n",
       "    .dataframe thead th {\n",
       "        text-align: right;\n",
       "    }\n",
       "</style>\n",
       "<table border=\"1\" class=\"dataframe\">\n",
       "  <thead>\n",
       "    <tr style=\"text-align: right;\">\n",
       "      <th></th>\n",
       "      <th>Marks</th>\n",
       "      <th>Gradees</th>\n",
       "    </tr>\n",
       "  </thead>\n",
       "  <tbody>\n",
       "    <tr>\n",
       "      <th>a</th>\n",
       "      <td>2</td>\n",
       "      <td>2</td>\n",
       "    </tr>\n",
       "    <tr>\n",
       "      <th>b</th>\n",
       "      <td>3</td>\n",
       "      <td>3</td>\n",
       "    </tr>\n",
       "    <tr>\n",
       "      <th>c</th>\n",
       "      <td>4</td>\n",
       "      <td>4</td>\n",
       "    </tr>\n",
       "    <tr>\n",
       "      <th>d</th>\n",
       "      <td>5</td>\n",
       "      <td>5</td>\n",
       "    </tr>\n",
       "  </tbody>\n",
       "</table>\n",
       "</div>"
      ],
      "text/plain": [
       "   Marks  Gradees\n",
       "a      2        2\n",
       "b      3        3\n",
       "c      4        4\n",
       "d      5        5"
      ]
     },
     "execution_count": 217,
     "metadata": {},
     "output_type": "execute_result"
    }
   ],
   "source": [
    "D=pd.DataFrame({'Marks':A,'Gradees':A})\n",
    "D"
   ]
  },
  {
   "cell_type": "code",
   "execution_count": 218,
   "id": "6c8e868f",
   "metadata": {},
   "outputs": [
    {
     "data": {
      "text/html": [
       "<div>\n",
       "<style scoped>\n",
       "    .dataframe tbody tr th:only-of-type {\n",
       "        vertical-align: middle;\n",
       "    }\n",
       "\n",
       "    .dataframe tbody tr th {\n",
       "        vertical-align: top;\n",
       "    }\n",
       "\n",
       "    .dataframe thead th {\n",
       "        text-align: right;\n",
       "    }\n",
       "</style>\n",
       "<table border=\"1\" class=\"dataframe\">\n",
       "  <thead>\n",
       "    <tr style=\"text-align: right;\">\n",
       "      <th></th>\n",
       "      <th>a</th>\n",
       "      <th>b</th>\n",
       "      <th>c</th>\n",
       "      <th>d</th>\n",
       "    </tr>\n",
       "  </thead>\n",
       "  <tbody>\n",
       "    <tr>\n",
       "      <th>Marks</th>\n",
       "      <td>2</td>\n",
       "      <td>3</td>\n",
       "      <td>4</td>\n",
       "      <td>5</td>\n",
       "    </tr>\n",
       "    <tr>\n",
       "      <th>Gradees</th>\n",
       "      <td>2</td>\n",
       "      <td>3</td>\n",
       "      <td>4</td>\n",
       "      <td>5</td>\n",
       "    </tr>\n",
       "  </tbody>\n",
       "</table>\n",
       "</div>"
      ],
      "text/plain": [
       "         a  b  c  d\n",
       "Marks    2  3  4  5\n",
       "Gradees  2  3  4  5"
      ]
     },
     "execution_count": 218,
     "metadata": {},
     "output_type": "execute_result"
    }
   ],
   "source": [
    "D.T"
   ]
  },
  {
   "cell_type": "code",
   "execution_count": 219,
   "id": "afdcb592",
   "metadata": {},
   "outputs": [
    {
     "data": {
      "text/html": [
       "<div>\n",
       "<style scoped>\n",
       "    .dataframe tbody tr th:only-of-type {\n",
       "        vertical-align: middle;\n",
       "    }\n",
       "\n",
       "    .dataframe tbody tr th {\n",
       "        vertical-align: top;\n",
       "    }\n",
       "\n",
       "    .dataframe thead th {\n",
       "        text-align: right;\n",
       "    }\n",
       "</style>\n",
       "<table border=\"1\" class=\"dataframe\">\n",
       "  <thead>\n",
       "    <tr style=\"text-align: right;\">\n",
       "      <th></th>\n",
       "      <th>Marks</th>\n",
       "      <th>Gradees</th>\n",
       "    </tr>\n",
       "  </thead>\n",
       "  <tbody>\n",
       "    <tr>\n",
       "      <th>a</th>\n",
       "      <td>2</td>\n",
       "      <td>2</td>\n",
       "    </tr>\n",
       "    <tr>\n",
       "      <th>b</th>\n",
       "      <td>3</td>\n",
       "      <td>3</td>\n",
       "    </tr>\n",
       "    <tr>\n",
       "      <th>c</th>\n",
       "      <td>4</td>\n",
       "      <td>4</td>\n",
       "    </tr>\n",
       "    <tr>\n",
       "      <th>d</th>\n",
       "      <td>5</td>\n",
       "      <td>5</td>\n",
       "    </tr>\n",
       "  </tbody>\n",
       "</table>\n",
       "</div>"
      ],
      "text/plain": [
       "   Marks  Gradees\n",
       "a      2        2\n",
       "b      3        3\n",
       "c      4        4\n",
       "d      5        5"
      ]
     },
     "execution_count": 219,
     "metadata": {},
     "output_type": "execute_result"
    }
   ],
   "source": [
    "D"
   ]
  },
  {
   "cell_type": "code",
   "execution_count": 220,
   "id": "a0a49081",
   "metadata": {},
   "outputs": [
    {
     "data": {
      "text/plain": [
       "array([[2, 2],\n",
       "       [3, 3],\n",
       "       [4, 4],\n",
       "       [5, 5]], dtype=int64)"
      ]
     },
     "execution_count": 220,
     "metadata": {},
     "output_type": "execute_result"
    }
   ],
   "source": [
    "D.values"
   ]
  },
  {
   "cell_type": "code",
   "execution_count": 221,
   "id": "602b75ad",
   "metadata": {},
   "outputs": [
    {
     "data": {
      "text/plain": [
       "4"
      ]
     },
     "execution_count": 221,
     "metadata": {},
     "output_type": "execute_result"
    }
   ],
   "source": [
    "D.values[2,0]"
   ]
  },
  {
   "cell_type": "code",
   "execution_count": 222,
   "id": "d9c44001",
   "metadata": {},
   "outputs": [
    {
     "data": {
      "text/plain": [
       "Index(['Marks', 'Gradees'], dtype='object')"
      ]
     },
     "execution_count": 222,
     "metadata": {},
     "output_type": "execute_result"
    }
   ],
   "source": [
    "D.columns"
   ]
  },
  {
   "cell_type": "code",
   "execution_count": 223,
   "id": "965ad969",
   "metadata": {},
   "outputs": [
    {
     "data": {
      "text/html": [
       "<div>\n",
       "<style scoped>\n",
       "    .dataframe tbody tr th:only-of-type {\n",
       "        vertical-align: middle;\n",
       "    }\n",
       "\n",
       "    .dataframe tbody tr th {\n",
       "        vertical-align: top;\n",
       "    }\n",
       "\n",
       "    .dataframe thead th {\n",
       "        text-align: right;\n",
       "    }\n",
       "</style>\n",
       "<table border=\"1\" class=\"dataframe\">\n",
       "  <thead>\n",
       "    <tr style=\"text-align: right;\">\n",
       "      <th></th>\n",
       "      <th>Marks</th>\n",
       "      <th>Gradees</th>\n",
       "    </tr>\n",
       "  </thead>\n",
       "  <tbody>\n",
       "    <tr>\n",
       "      <th>a</th>\n",
       "      <td>2</td>\n",
       "      <td>2</td>\n",
       "    </tr>\n",
       "    <tr>\n",
       "      <th>b</th>\n",
       "      <td>3</td>\n",
       "      <td>3</td>\n",
       "    </tr>\n",
       "    <tr>\n",
       "      <th>c</th>\n",
       "      <td>4</td>\n",
       "      <td>4</td>\n",
       "    </tr>\n",
       "    <tr>\n",
       "      <th>d</th>\n",
       "      <td>5</td>\n",
       "      <td>5</td>\n",
       "    </tr>\n",
       "  </tbody>\n",
       "</table>\n",
       "</div>"
      ],
      "text/plain": [
       "   Marks  Gradees\n",
       "a      2        2\n",
       "b      3        3\n",
       "c      4        4\n",
       "d      5        5"
      ]
     },
     "execution_count": 223,
     "metadata": {},
     "output_type": "execute_result"
    }
   ],
   "source": [
    "D"
   ]
  },
  {
   "cell_type": "code",
   "execution_count": 224,
   "id": "171c78bd",
   "metadata": {},
   "outputs": [],
   "source": [
    "D['SacledMarks']=D['Marks']*100/5"
   ]
  },
  {
   "cell_type": "code",
   "execution_count": 225,
   "id": "ff6cbfbd",
   "metadata": {},
   "outputs": [
    {
     "data": {
      "text/html": [
       "<div>\n",
       "<style scoped>\n",
       "    .dataframe tbody tr th:only-of-type {\n",
       "        vertical-align: middle;\n",
       "    }\n",
       "\n",
       "    .dataframe tbody tr th {\n",
       "        vertical-align: top;\n",
       "    }\n",
       "\n",
       "    .dataframe thead th {\n",
       "        text-align: right;\n",
       "    }\n",
       "</style>\n",
       "<table border=\"1\" class=\"dataframe\">\n",
       "  <thead>\n",
       "    <tr style=\"text-align: right;\">\n",
       "      <th></th>\n",
       "      <th>Marks</th>\n",
       "      <th>Gradees</th>\n",
       "      <th>SacledMarks</th>\n",
       "    </tr>\n",
       "  </thead>\n",
       "  <tbody>\n",
       "    <tr>\n",
       "      <th>a</th>\n",
       "      <td>2</td>\n",
       "      <td>2</td>\n",
       "      <td>40.0</td>\n",
       "    </tr>\n",
       "    <tr>\n",
       "      <th>b</th>\n",
       "      <td>3</td>\n",
       "      <td>3</td>\n",
       "      <td>60.0</td>\n",
       "    </tr>\n",
       "    <tr>\n",
       "      <th>c</th>\n",
       "      <td>4</td>\n",
       "      <td>4</td>\n",
       "      <td>80.0</td>\n",
       "    </tr>\n",
       "    <tr>\n",
       "      <th>d</th>\n",
       "      <td>5</td>\n",
       "      <td>5</td>\n",
       "      <td>100.0</td>\n",
       "    </tr>\n",
       "  </tbody>\n",
       "</table>\n",
       "</div>"
      ],
      "text/plain": [
       "   Marks  Gradees  SacledMarks\n",
       "a      2        2         40.0\n",
       "b      3        3         60.0\n",
       "c      4        4         80.0\n",
       "d      5        5        100.0"
      ]
     },
     "execution_count": 225,
     "metadata": {},
     "output_type": "execute_result"
    }
   ],
   "source": [
    "D"
   ]
  },
  {
   "cell_type": "code",
   "execution_count": 226,
   "id": "b21a56da",
   "metadata": {},
   "outputs": [],
   "source": [
    "del D['SacledMarks']"
   ]
  },
  {
   "cell_type": "code",
   "execution_count": 227,
   "id": "cea077cc",
   "metadata": {},
   "outputs": [
    {
     "data": {
      "text/html": [
       "<div>\n",
       "<style scoped>\n",
       "    .dataframe tbody tr th:only-of-type {\n",
       "        vertical-align: middle;\n",
       "    }\n",
       "\n",
       "    .dataframe tbody tr th {\n",
       "        vertical-align: top;\n",
       "    }\n",
       "\n",
       "    .dataframe thead th {\n",
       "        text-align: right;\n",
       "    }\n",
       "</style>\n",
       "<table border=\"1\" class=\"dataframe\">\n",
       "  <thead>\n",
       "    <tr style=\"text-align: right;\">\n",
       "      <th></th>\n",
       "      <th>Marks</th>\n",
       "      <th>Gradees</th>\n",
       "    </tr>\n",
       "  </thead>\n",
       "  <tbody>\n",
       "    <tr>\n",
       "      <th>a</th>\n",
       "      <td>2</td>\n",
       "      <td>2</td>\n",
       "    </tr>\n",
       "    <tr>\n",
       "      <th>b</th>\n",
       "      <td>3</td>\n",
       "      <td>3</td>\n",
       "    </tr>\n",
       "    <tr>\n",
       "      <th>c</th>\n",
       "      <td>4</td>\n",
       "      <td>4</td>\n",
       "    </tr>\n",
       "    <tr>\n",
       "      <th>d</th>\n",
       "      <td>5</td>\n",
       "      <td>5</td>\n",
       "    </tr>\n",
       "  </tbody>\n",
       "</table>\n",
       "</div>"
      ],
      "text/plain": [
       "   Marks  Gradees\n",
       "a      2        2\n",
       "b      3        3\n",
       "c      4        4\n",
       "d      5        5"
      ]
     },
     "execution_count": 227,
     "metadata": {},
     "output_type": "execute_result"
    }
   ],
   "source": [
    "D"
   ]
  },
  {
   "cell_type": "code",
   "execution_count": 228,
   "id": "54a6a070",
   "metadata": {},
   "outputs": [
    {
     "data": {
      "text/html": [
       "<div>\n",
       "<style scoped>\n",
       "    .dataframe tbody tr th:only-of-type {\n",
       "        vertical-align: middle;\n",
       "    }\n",
       "\n",
       "    .dataframe tbody tr th {\n",
       "        vertical-align: top;\n",
       "    }\n",
       "\n",
       "    .dataframe thead th {\n",
       "        text-align: right;\n",
       "    }\n",
       "</style>\n",
       "<table border=\"1\" class=\"dataframe\">\n",
       "  <thead>\n",
       "    <tr style=\"text-align: right;\">\n",
       "      <th></th>\n",
       "      <th>Marks</th>\n",
       "      <th>Gradees</th>\n",
       "    </tr>\n",
       "  </thead>\n",
       "  <tbody>\n",
       "    <tr>\n",
       "      <th>a</th>\n",
       "      <td>2</td>\n",
       "      <td>2</td>\n",
       "    </tr>\n",
       "    <tr>\n",
       "      <th>b</th>\n",
       "      <td>3</td>\n",
       "      <td>3</td>\n",
       "    </tr>\n",
       "    <tr>\n",
       "      <th>c</th>\n",
       "      <td>4</td>\n",
       "      <td>4</td>\n",
       "    </tr>\n",
       "  </tbody>\n",
       "</table>\n",
       "</div>"
      ],
      "text/plain": [
       "   Marks  Gradees\n",
       "a      2        2\n",
       "b      3        3\n",
       "c      4        4"
      ]
     },
     "execution_count": 228,
     "metadata": {},
     "output_type": "execute_result"
    }
   ],
   "source": [
    "G=D[D['Marks']<=4]\n",
    "G"
   ]
  },
  {
   "cell_type": "code",
   "execution_count": 229,
   "id": "4686db28",
   "metadata": {},
   "outputs": [],
   "source": [
    "D=pd.DataFrame([{'a':1,'b':2},{'b':3,'c':4}])"
   ]
  },
  {
   "cell_type": "code",
   "execution_count": 230,
   "id": "622e9823",
   "metadata": {},
   "outputs": [
    {
     "data": {
      "text/html": [
       "<div>\n",
       "<style scoped>\n",
       "    .dataframe tbody tr th:only-of-type {\n",
       "        vertical-align: middle;\n",
       "    }\n",
       "\n",
       "    .dataframe tbody tr th {\n",
       "        vertical-align: top;\n",
       "    }\n",
       "\n",
       "    .dataframe thead th {\n",
       "        text-align: right;\n",
       "    }\n",
       "</style>\n",
       "<table border=\"1\" class=\"dataframe\">\n",
       "  <thead>\n",
       "    <tr style=\"text-align: right;\">\n",
       "      <th></th>\n",
       "      <th>a</th>\n",
       "      <th>b</th>\n",
       "      <th>c</th>\n",
       "    </tr>\n",
       "  </thead>\n",
       "  <tbody>\n",
       "    <tr>\n",
       "      <th>0</th>\n",
       "      <td>1.0</td>\n",
       "      <td>2</td>\n",
       "      <td>NaN</td>\n",
       "    </tr>\n",
       "    <tr>\n",
       "      <th>1</th>\n",
       "      <td>NaN</td>\n",
       "      <td>3</td>\n",
       "      <td>4.0</td>\n",
       "    </tr>\n",
       "  </tbody>\n",
       "</table>\n",
       "</div>"
      ],
      "text/plain": [
       "     a  b    c\n",
       "0  1.0  2  NaN\n",
       "1  NaN  3  4.0"
      ]
     },
     "execution_count": 230,
     "metadata": {},
     "output_type": "execute_result"
    }
   ],
   "source": [
    "D"
   ]
  },
  {
   "cell_type": "code",
   "execution_count": 231,
   "id": "b852827d",
   "metadata": {},
   "outputs": [
    {
     "data": {
      "text/html": [
       "<div>\n",
       "<style scoped>\n",
       "    .dataframe tbody tr th:only-of-type {\n",
       "        vertical-align: middle;\n",
       "    }\n",
       "\n",
       "    .dataframe tbody tr th {\n",
       "        vertical-align: top;\n",
       "    }\n",
       "\n",
       "    .dataframe thead th {\n",
       "        text-align: right;\n",
       "    }\n",
       "</style>\n",
       "<table border=\"1\" class=\"dataframe\">\n",
       "  <thead>\n",
       "    <tr style=\"text-align: right;\">\n",
       "      <th></th>\n",
       "      <th>a</th>\n",
       "      <th>b</th>\n",
       "      <th>c</th>\n",
       "    </tr>\n",
       "  </thead>\n",
       "  <tbody>\n",
       "    <tr>\n",
       "      <th>0</th>\n",
       "      <td>1.0</td>\n",
       "      <td>2</td>\n",
       "      <td>-1.0</td>\n",
       "    </tr>\n",
       "    <tr>\n",
       "      <th>1</th>\n",
       "      <td>-1.0</td>\n",
       "      <td>3</td>\n",
       "      <td>4.0</td>\n",
       "    </tr>\n",
       "  </tbody>\n",
       "</table>\n",
       "</div>"
      ],
      "text/plain": [
       "     a  b    c\n",
       "0  1.0  2 -1.0\n",
       "1 -1.0  3  4.0"
      ]
     },
     "execution_count": 231,
     "metadata": {},
     "output_type": "execute_result"
    }
   ],
   "source": [
    "D.fillna(-1)"
   ]
  },
  {
   "cell_type": "code",
   "execution_count": 232,
   "id": "fda8bc93",
   "metadata": {},
   "outputs": [],
   "source": [
    "D.dropna?"
   ]
  },
  {
   "cell_type": "code",
   "execution_count": 233,
   "id": "5a1c1c6e",
   "metadata": {},
   "outputs": [
    {
     "data": {
      "text/html": [
       "<div>\n",
       "<style scoped>\n",
       "    .dataframe tbody tr th:only-of-type {\n",
       "        vertical-align: middle;\n",
       "    }\n",
       "\n",
       "    .dataframe tbody tr th {\n",
       "        vertical-align: top;\n",
       "    }\n",
       "\n",
       "    .dataframe thead th {\n",
       "        text-align: right;\n",
       "    }\n",
       "</style>\n",
       "<table border=\"1\" class=\"dataframe\">\n",
       "  <thead>\n",
       "    <tr style=\"text-align: right;\">\n",
       "      <th></th>\n",
       "      <th>a</th>\n",
       "      <th>b</th>\n",
       "      <th>c</th>\n",
       "    </tr>\n",
       "  </thead>\n",
       "  <tbody>\n",
       "    <tr>\n",
       "      <th>0</th>\n",
       "      <td>1.0</td>\n",
       "      <td>2</td>\n",
       "      <td>NaN</td>\n",
       "    </tr>\n",
       "    <tr>\n",
       "      <th>1</th>\n",
       "      <td>NaN</td>\n",
       "      <td>3</td>\n",
       "      <td>4.0</td>\n",
       "    </tr>\n",
       "  </tbody>\n",
       "</table>\n",
       "</div>"
      ],
      "text/plain": [
       "     a  b    c\n",
       "0  1.0  2  NaN\n",
       "1  NaN  3  4.0"
      ]
     },
     "execution_count": 233,
     "metadata": {},
     "output_type": "execute_result"
    }
   ],
   "source": [
    "D"
   ]
  },
  {
   "cell_type": "code",
   "execution_count": 234,
   "id": "961a762e",
   "metadata": {},
   "outputs": [
    {
     "data": {
      "text/html": [
       "<div>\n",
       "<style scoped>\n",
       "    .dataframe tbody tr th:only-of-type {\n",
       "        vertical-align: middle;\n",
       "    }\n",
       "\n",
       "    .dataframe tbody tr th {\n",
       "        vertical-align: top;\n",
       "    }\n",
       "\n",
       "    .dataframe thead th {\n",
       "        text-align: right;\n",
       "    }\n",
       "</style>\n",
       "<table border=\"1\" class=\"dataframe\">\n",
       "  <thead>\n",
       "    <tr style=\"text-align: right;\">\n",
       "      <th></th>\n",
       "      <th>a</th>\n",
       "      <th>b</th>\n",
       "      <th>c</th>\n",
       "    </tr>\n",
       "  </thead>\n",
       "  <tbody>\n",
       "    <tr>\n",
       "      <th>0</th>\n",
       "      <td>1.0</td>\n",
       "      <td>2</td>\n",
       "      <td>-1.0</td>\n",
       "    </tr>\n",
       "    <tr>\n",
       "      <th>1</th>\n",
       "      <td>-1.0</td>\n",
       "      <td>3</td>\n",
       "      <td>4.0</td>\n",
       "    </tr>\n",
       "  </tbody>\n",
       "</table>\n",
       "</div>"
      ],
      "text/plain": [
       "     a  b    c\n",
       "0  1.0  2 -1.0\n",
       "1 -1.0  3  4.0"
      ]
     },
     "execution_count": 234,
     "metadata": {},
     "output_type": "execute_result"
    }
   ],
   "source": [
    "D.fillna(-1)"
   ]
  },
  {
   "cell_type": "code",
   "execution_count": null,
   "id": "68904e2d",
   "metadata": {},
   "outputs": [],
   "source": []
  }
 ],
 "metadata": {
  "kernelspec": {
   "display_name": "Python 3 (ipykernel)",
   "language": "python",
   "name": "python3"
  },
  "language_info": {
   "codemirror_mode": {
    "name": "ipython",
    "version": 3
   },
   "file_extension": ".py",
   "mimetype": "text/x-python",
   "name": "python",
   "nbconvert_exporter": "python",
   "pygments_lexer": "ipython3",
   "version": "3.10.6"
  }
 },
 "nbformat": 4,
 "nbformat_minor": 5
}
