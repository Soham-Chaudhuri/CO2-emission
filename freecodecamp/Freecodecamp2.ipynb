{
 "cells": [
  {
   "cell_type": "code",
   "execution_count": 118,
   "id": "4a28ea2d",
   "metadata": {},
   "outputs": [],
   "source": [
    "import numpy as np"
   ]
  },
  {
   "cell_type": "code",
   "execution_count": 119,
   "id": "36dd947e",
   "metadata": {},
   "outputs": [],
   "source": [
    "a=np.array([1,2,3,5,7])"
   ]
  },
  {
   "cell_type": "code",
   "execution_count": 120,
   "id": "06c4c3bd",
   "metadata": {},
   "outputs": [],
   "source": [
    "b=np.array([2,3,5],dtype='float')"
   ]
  },
  {
   "cell_type": "code",
   "execution_count": 121,
   "id": "dc367fd5",
   "metadata": {},
   "outputs": [
    {
     "name": "stdout",
     "output_type": "stream",
     "text": [
      "[1 2 3 5 7]\n"
     ]
    }
   ],
   "source": [
    "print(a)"
   ]
  },
  {
   "cell_type": "code",
   "execution_count": 122,
   "id": "6b07bdd3",
   "metadata": {},
   "outputs": [
    {
     "data": {
      "text/plain": [
       "numpy.ndarray"
      ]
     },
     "execution_count": 122,
     "metadata": {},
     "output_type": "execute_result"
    }
   ],
   "source": [
    "type(a)"
   ]
  },
  {
   "cell_type": "code",
   "execution_count": 123,
   "id": "055aa5fb",
   "metadata": {},
   "outputs": [
    {
     "data": {
      "text/plain": [
       "dtype('int32')"
      ]
     },
     "execution_count": 123,
     "metadata": {},
     "output_type": "execute_result"
    }
   ],
   "source": [
    "a.dtype"
   ]
  },
  {
   "cell_type": "code",
   "execution_count": 124,
   "id": "b52ba7c6",
   "metadata": {},
   "outputs": [
    {
     "data": {
      "text/plain": [
       "dtype('float64')"
      ]
     },
     "execution_count": 124,
     "metadata": {},
     "output_type": "execute_result"
    }
   ],
   "source": [
    "b.dtype"
   ]
  },
  {
   "cell_type": "code",
   "execution_count": 125,
   "id": "8161169b",
   "metadata": {},
   "outputs": [],
   "source": [
    "c=np.array([[1,2,3],[4,5,6]])"
   ]
  },
  {
   "cell_type": "code",
   "execution_count": 126,
   "id": "4023b35b",
   "metadata": {},
   "outputs": [
    {
     "data": {
      "text/plain": [
       "2"
      ]
     },
     "execution_count": 126,
     "metadata": {},
     "output_type": "execute_result"
    }
   ],
   "source": [
    "c.ndim"
   ]
  },
  {
   "cell_type": "code",
   "execution_count": 127,
   "id": "7d85891a",
   "metadata": {},
   "outputs": [
    {
     "data": {
      "text/plain": [
       "3"
      ]
     },
     "execution_count": 127,
     "metadata": {},
     "output_type": "execute_result"
    }
   ],
   "source": [
    "c[0,2]"
   ]
  },
  {
   "cell_type": "code",
   "execution_count": 128,
   "id": "ffe1cb32",
   "metadata": {},
   "outputs": [
    {
     "data": {
      "text/plain": [
       "numpy.ndarray"
      ]
     },
     "execution_count": 128,
     "metadata": {},
     "output_type": "execute_result"
    }
   ],
   "source": [
    "type(c)"
   ]
  },
  {
   "cell_type": "code",
   "execution_count": 129,
   "id": "d4c7d5b0",
   "metadata": {},
   "outputs": [
    {
     "data": {
      "text/plain": [
       "(2, 3)"
      ]
     },
     "execution_count": 129,
     "metadata": {},
     "output_type": "execute_result"
    }
   ],
   "source": [
    "c.shape"
   ]
  },
  {
   "cell_type": "code",
   "execution_count": 130,
   "id": "b4b09230",
   "metadata": {},
   "outputs": [
    {
     "data": {
      "text/plain": [
       "6"
      ]
     },
     "execution_count": 130,
     "metadata": {},
     "output_type": "execute_result"
    }
   ],
   "source": [
    "c.size"
   ]
  },
  {
   "cell_type": "code",
   "execution_count": 131,
   "id": "fd0218e7",
   "metadata": {},
   "outputs": [
    {
     "data": {
      "text/plain": [
       "24"
      ]
     },
     "execution_count": 131,
     "metadata": {},
     "output_type": "execute_result"
    }
   ],
   "source": [
    "c.nbytes"
   ]
  },
  {
   "cell_type": "code",
   "execution_count": 132,
   "id": "3addca4c",
   "metadata": {},
   "outputs": [],
   "source": [
    "d=np.arange(50,100,3) #similar to function"
   ]
  },
  {
   "cell_type": "code",
   "execution_count": 133,
   "id": "2cbaef2b",
   "metadata": {},
   "outputs": [
    {
     "name": "stdout",
     "output_type": "stream",
     "text": [
      "[50 53 56 59 62 65 68 71 74 77 80 83 86 89 92 95 98]\n"
     ]
    }
   ],
   "source": [
    "print(d)"
   ]
  },
  {
   "cell_type": "code",
   "execution_count": 134,
   "id": "7d605f14",
   "metadata": {},
   "outputs": [
    {
     "name": "stdout",
     "output_type": "stream",
     "text": [
      "[5 0 4 9 2 3 6 7 8 1]\n"
     ]
    }
   ],
   "source": [
    "e=np.random.permutation(np.arange(10))\n",
    "print(e)"
   ]
  },
  {
   "cell_type": "code",
   "execution_count": 135,
   "id": "9b3687ae",
   "metadata": {},
   "outputs": [
    {
     "name": "stdout",
     "output_type": "stream",
     "text": [
      "726\n"
     ]
    }
   ],
   "source": [
    "v=np.random.randint(0,1000)\n",
    "print(v)"
   ]
  },
  {
   "cell_type": "code",
   "execution_count": 136,
   "id": "7e16c5c2",
   "metadata": {},
   "outputs": [],
   "source": [
    "f=np.random.rand(100)"
   ]
  },
  {
   "cell_type": "code",
   "execution_count": 137,
   "id": "2cc185a4",
   "metadata": {},
   "outputs": [
    {
     "name": "stdout",
     "output_type": "stream",
     "text": [
      "[0.07826097 0.53112111 0.36377836 0.94948452 0.26112524 0.38610463\n",
      " 0.51053511 0.81668592 0.52905743 0.71070848 0.77802802 0.65209396\n",
      " 0.9244167  0.64844571 0.25851215 0.60905973 0.0499253  0.59873236\n",
      " 0.84370312 0.48930507 0.99989694 0.59577494 0.83437354 0.99137488\n",
      " 0.08190214 0.70013118 0.100129   0.51652005 0.86163121 0.40137051\n",
      " 0.24858405 0.74128942 0.24329489 0.22623746 0.04727129 0.2985535\n",
      " 0.98863996 0.59762196 0.26718015 0.77718794 0.43800046 0.54936509\n",
      " 0.26563269 0.8839115  0.28690168 0.10945699 0.16971517 0.56622566\n",
      " 0.08728214 0.44486407 0.91948131 0.46937185 0.79164483 0.17720643\n",
      " 0.05344648 0.51495692 0.4191073  0.68598803 0.83925527 0.24594726\n",
      " 0.91830355 0.35264868 0.132935   0.83106583 0.57685263 0.19749781\n",
      " 0.23313334 0.44413737 0.49586186 0.00426529 0.5090196  0.614603\n",
      " 0.59350697 0.42250377 0.04578509 0.77857642 0.15512654 0.49795536\n",
      " 0.9838944  0.88312705 0.10068252 0.26213154 0.10823458 0.04368951\n",
      " 0.79104884 0.00964026 0.8405662  0.08574487 0.87559855 0.30629224\n",
      " 0.58355912 0.2296561  0.49708139 0.63879609 0.64292765 0.38528218\n",
      " 0.7096674  0.1712803  0.94520042 0.03388826]\n"
     ]
    }
   ],
   "source": [
    "print(f)"
   ]
  },
  {
   "cell_type": "code",
   "execution_count": 138,
   "id": "14be588a",
   "metadata": {},
   "outputs": [],
   "source": [
    "import matplotlib.pyplot as plt"
   ]
  },
  {
   "cell_type": "code",
   "execution_count": 139,
   "id": "81c76d45",
   "metadata": {},
   "outputs": [
    {
     "data": {
      "text/plain": [
       "(array([14.,  8., 13.,  6., 10., 14.,  8.,  8., 10.,  9.]),\n",
       " array([0.00426529, 0.10382846, 0.20339162, 0.30295479, 0.40251795,\n",
       "        0.50208111, 0.60164428, 0.70120744, 0.80077061, 0.90033377,\n",
       "        0.99989694]),\n",
       " <BarContainer object of 10 artists>)"
      ]
     },
     "execution_count": 139,
     "metadata": {},
     "output_type": "execute_result"
    },
    {
     "data": {
      "image/png": "[encoded data removed]",
      "text/plain": [
       "<Figure size 432x288 with 1 Axes>"
      ]
     },
     "metadata": {
      "needs_background": "light"
     },
     "output_type": "display_data"
    }
   ],
   "source": [
    "plt.hist(f,bins=10)"
   ]
  },
  {
   "cell_type": "code",
   "execution_count": 140,
   "id": "1d5282b3",
   "metadata": {},
   "outputs": [
    {
     "data": {
      "text/plain": [
       "(array([ 1.,  0.,  1.,  0.,  0.,  0.,  0.,  0.,  0.,  0.,  0.,  0.,  0.,\n",
       "         0.,  0.,  0.,  0.,  1.,  0.,  0.,  1.,  0.,  1.,  0.,  0.,  0.,\n",
       "         0.,  0.,  0.,  0.,  1.,  2.,  1.,  1.,  0.,  1.,  1.,  0.,  1.,\n",
       "         0.,  1.,  0.,  2.,  0.,  3.,  0.,  1.,  3.,  1.,  0.,  1.,  4.,\n",
       "         0.,  3.,  1.,  1.,  1.,  1.,  3.,  2.,  3.,  1.,  2.,  1.,  2.,\n",
       "         3.,  0.,  1.,  6.,  7.,  2.,  4.,  0.,  5.,  4.,  5.,  4.,  4.,\n",
       "         4.,  3.,  6.,  3.,  3.,  4.,  5.,  6.,  4.,  4.,  4.,  4.,  9.,\n",
       "        10.,  8., 15.,  9.,  8., 10., 11.,  8., 12.,  8.,  9., 10., 18.,\n",
       "        12., 16.,  6., 14., 19., 22., 18., 14., 15., 13., 24., 22., 24.,\n",
       "        20., 26., 31., 14., 24., 20., 27., 24., 20., 27., 29., 19., 36.,\n",
       "        27., 34., 29., 37., 35., 29., 27., 41., 36., 33., 38., 30., 37.,\n",
       "        36., 33., 41., 33., 37., 37., 41., 42., 27., 39., 41., 47., 54.,\n",
       "        52., 41., 45., 63., 53., 46., 37., 52., 56., 67., 53., 59., 57.,\n",
       "        50., 60., 60., 63., 59., 70., 36., 73., 65., 68., 68., 62., 68.,\n",
       "        64., 78., 58., 72., 69., 63., 65., 67., 68., 67., 69., 72., 72.,\n",
       "        69., 81., 64., 75., 79., 80., 70., 71., 63., 62., 78., 60., 74.,\n",
       "        78., 63., 54., 82., 76., 63., 68., 71., 82., 83., 69., 80., 84.,\n",
       "        69., 65., 88., 67., 67., 61., 62., 70., 58., 67., 61., 60., 68.,\n",
       "        81., 58., 54., 71., 61., 52., 65., 66., 56., 51., 59., 59., 56.,\n",
       "        56., 59., 52., 57., 59., 48., 45., 51., 43., 45., 62., 44., 53.,\n",
       "        55., 45., 42., 36., 33., 48., 36., 46., 39., 25., 35., 46., 32.,\n",
       "        33., 34., 38., 27., 31., 35., 31., 30., 28., 26., 27., 19., 29.,\n",
       "        26., 32., 22., 26., 30., 32., 24., 25., 19., 25., 20., 23., 22.,\n",
       "        17., 17., 14., 22., 12., 16., 14.,  9.,  9., 19., 13.,  5., 17.,\n",
       "        14., 17., 13., 10.,  8.,  6.,  3., 12.,  6.,  6., 10.,  6.,  7.,\n",
       "         7.,  7.,  4.,  4.,  6.,  6.,  3.,  3.,  5.,  2.,  4.,  3.,  5.,\n",
       "         1.,  5.,  1.,  2.,  0.,  1.,  6.,  0.,  2.,  1.,  2.,  2.,  2.,\n",
       "         2.,  3.,  1.,  3.,  2.,  1.,  3.,  1.,  0.,  1.,  1.,  2.,  5.,\n",
       "         1.,  0.,  4.,  3.,  0.,  0.,  0.,  1.,  0.,  0.,  0.,  1.,  1.,\n",
       "         1.,  1.,  0.,  0.,  0.,  1.,  0.,  0.,  1.,  1.,  0.,  0.,  0.,\n",
       "         0.,  0.,  0.,  0.,  0.,  0.,  0.,  1.,  0.,  1.]),\n",
       " array([-3.7549407 , -3.73673259, -3.71852448, -3.70031637, -3.68210826,\n",
       "        -3.66390015, -3.64569204, -3.62748393, -3.60927582, -3.59106771,\n",
       "        -3.5728596 , -3.55465149, -3.53644338, -3.51823527, -3.50002716,\n",
       "        -3.48181905, -3.46361094, -3.44540283, -3.42719472, -3.40898661,\n",
       "        -3.3907785 , -3.37257039, -3.35436228, -3.33615417, -3.31794606,\n",
       "        -3.29973795, -3.28152984, -3.26332173, -3.24511362, -3.22690551,\n",
       "        -3.2086974 , -3.19048929, -3.17228118, -3.15407307, -3.13586496,\n",
       "        -3.11765685, -3.09944874, -3.08124063, -3.06303252, -3.04482441,\n",
       "        -3.0266163 , -3.00840819, -2.99020008, -2.97199197, -2.95378386,\n",
       "        -2.93557575, -2.91736764, -2.89915953, -2.88095142, -2.86274331,\n",
       "        -2.8445352 , -2.82632709, -2.80811898, -2.78991087, -2.77170276,\n",
       "        -2.75349465, -2.73528653, -2.71707842, -2.69887031, -2.6806622 ,\n",
       "        -2.66245409, -2.64424598, -2.62603787, -2.60782976, -2.58962165,\n",
       "        -2.57141354, -2.55320543, -2.53499732, -2.51678921, -2.4985811 ,\n",
       "        -2.48037299, -2.46216488, -2.44395677, -2.42574866, -2.40754055,\n",
       "        -2.38933244, -2.37112433, -2.35291622, -2.33470811, -2.3165    ,\n",
       "        -2.29829189, -2.28008378, -2.26187567, -2.24366756, -2.22545945,\n",
       "        -2.20725134, -2.18904323, -2.17083512, -2.15262701, -2.1344189 ,\n",
       "        -2.11621079, -2.09800268, -2.07979457, -2.06158646, -2.04337835,\n",
       "        -2.02517024, -2.00696213, -1.98875402, -1.97054591, -1.9523378 ,\n",
       "        -1.93412969, -1.91592158, -1.89771347, -1.87950536, -1.86129725,\n",
       "        -1.84308914, -1.82488103, -1.80667292, -1.78846481, -1.7702567 ,\n",
       "        -1.75204859, -1.73384048, -1.71563237, -1.69742426, -1.67921615,\n",
       "        -1.66100804, -1.64279993, -1.62459182, -1.60638371, -1.5881756 ,\n",
       "        -1.56996749, -1.55175938, -1.53355127, -1.51534316, -1.49713505,\n",
       "        -1.47892694, -1.46071883, -1.44251072, -1.42430261, -1.4060945 ,\n",
       "        -1.38788639, -1.36967828, -1.35147017, -1.33326206, -1.31505395,\n",
       "        -1.29684584, -1.27863773, -1.26042962, -1.24222151, -1.2240134 ,\n",
       "        -1.20580529, -1.18759718, -1.16938907, -1.15118096, -1.13297285,\n",
       "        -1.11476474, -1.09655663, -1.07834852, -1.06014041, -1.0419323 ,\n",
       "        -1.02372419, -1.00551608, -0.98730797, -0.96909986, -0.95089175,\n",
       "        -0.93268364, -0.91447553, -0.89626742, -0.87805931, -0.8598512 ,\n",
       "        -0.84164309, -0.82343498, -0.80522687, -0.78701876, -0.76881065,\n",
       "        -0.75060254, -0.73239443, -0.71418632, -0.69597821, -0.6777701 ,\n",
       "        -0.65956199, -0.64135388, -0.62314577, -0.60493766, -0.58672955,\n",
       "        -0.56852144, -0.55031333, -0.53210522, -0.51389711, -0.495689  ,\n",
       "        -0.47748089, -0.45927278, -0.44106467, -0.42285656, -0.40464845,\n",
       "        -0.38644034, -0.36823223, -0.35002412, -0.33181601, -0.3136079 ,\n",
       "        -0.29539979, -0.27719168, -0.25898357, -0.24077546, -0.22256735,\n",
       "        -0.20435924, -0.18615113, -0.16794302, -0.14973491, -0.1315268 ,\n",
       "        -0.11331869, -0.09511058, -0.07690247, -0.05869436, -0.04048625,\n",
       "        -0.02227814, -0.00407003,  0.01413808,  0.03234619,  0.0505543 ,\n",
       "         0.06876241,  0.08697052,  0.10517863,  0.12338674,  0.14159485,\n",
       "         0.15980296,  0.17801107,  0.19621918,  0.21442729,  0.2326354 ,\n",
       "         0.25084351,  0.26905162,  0.28725973,  0.30546784,  0.32367595,\n",
       "         0.34188406,  0.36009217,  0.37830028,  0.39650839,  0.4147165 ,\n",
       "         0.43292461,  0.45113272,  0.46934083,  0.48754894,  0.50575705,\n",
       "         0.52396516,  0.54217327,  0.56038138,  0.57858949,  0.5967976 ,\n",
       "         0.61500571,  0.63321382,  0.65142193,  0.66963004,  0.68783815,\n",
       "         0.70604626,  0.72425437,  0.74246248,  0.76067059,  0.7788787 ,\n",
       "         0.79708681,  0.81529492,  0.83350303,  0.85171114,  0.86991925,\n",
       "         0.88812736,  0.90633547,  0.92454358,  0.94275169,  0.9609598 ,\n",
       "         0.97916792,  0.99737603,  1.01558414,  1.03379225,  1.05200036,\n",
       "         1.07020847,  1.08841658,  1.10662469,  1.1248328 ,  1.14304091,\n",
       "         1.16124902,  1.17945713,  1.19766524,  1.21587335,  1.23408146,\n",
       "         1.25228957,  1.27049768,  1.28870579,  1.3069139 ,  1.32512201,\n",
       "         1.34333012,  1.36153823,  1.37974634,  1.39795445,  1.41616256,\n",
       "         1.43437067,  1.45257878,  1.47078689,  1.488995  ,  1.50720311,\n",
       "         1.52541122,  1.54361933,  1.56182744,  1.58003555,  1.59824366,\n",
       "         1.61645177,  1.63465988,  1.65286799,  1.6710761 ,  1.68928421,\n",
       "         1.70749232,  1.72570043,  1.74390854,  1.76211665,  1.78032476,\n",
       "         1.79853287,  1.81674098,  1.83494909,  1.8531572 ,  1.87136531,\n",
       "         1.88957342,  1.90778153,  1.92598964,  1.94419775,  1.96240586,\n",
       "         1.98061397,  1.99882208,  2.01703019,  2.0352383 ,  2.05344641,\n",
       "         2.07165452,  2.08986263,  2.10807074,  2.12627885,  2.14448696,\n",
       "         2.16269507,  2.18090318,  2.19911129,  2.2173194 ,  2.23552751,\n",
       "         2.25373562,  2.27194373,  2.29015184,  2.30835995,  2.32656806,\n",
       "         2.34477617,  2.36298428,  2.38119239,  2.3994005 ,  2.41760861,\n",
       "         2.43581672,  2.45402483,  2.47223294,  2.49044105,  2.50864916,\n",
       "         2.52685727,  2.54506538,  2.56327349,  2.5814816 ,  2.59968971,\n",
       "         2.61789782,  2.63610593,  2.65431404,  2.67252215,  2.69073026,\n",
       "         2.70893837,  2.72714648,  2.74535459,  2.7635627 ,  2.78177081,\n",
       "         2.79997892,  2.81818703,  2.83639514,  2.85460325,  2.87281136,\n",
       "         2.89101947,  2.90922758,  2.92743569,  2.9456438 ,  2.96385191,\n",
       "         2.98206002,  3.00026813,  3.01847624,  3.03668435,  3.05489246,\n",
       "         3.07310057,  3.09130868,  3.10951679,  3.1277249 ,  3.14593301,\n",
       "         3.16414112,  3.18234923,  3.20055734,  3.21876545,  3.23697356,\n",
       "         3.25518167,  3.27338978,  3.29159789,  3.309806  ,  3.32801411,\n",
       "         3.34622222,  3.36443033,  3.38263844,  3.40084655,  3.41905466,\n",
       "         3.43726277,  3.45547088,  3.47367899,  3.4918871 ,  3.51009521,\n",
       "         3.52830332]),\n",
       " <BarContainer object of 400 artists>)"
      ]
     },
     "execution_count": 140,
     "metadata": {},
     "output_type": "execute_result"
    },
    {
     "data": {
      "image/png": "[encoded data removed]",
      "text/plain": [
       "<Figure size 432x288 with 1 Axes>"
      ]
     },
     "metadata": {
      "needs_background": "light"
     },
     "output_type": "display_data"
    }
   ],
   "source": [
    "g=np.random.randn(10000)\n",
    "plt.hist(g,bins=400)"
   ]
  },
  {
   "cell_type": "code",
   "execution_count": 141,
   "id": "4a2d4717",
   "metadata": {},
   "outputs": [
    {
     "data": {
      "text/plain": [
       "array([[0.9613443 , 0.73236077, 0.75515557],\n",
       "       [0.16594116, 0.37534612, 0.66112027]])"
      ]
     },
     "execution_count": 141,
     "metadata": {},
     "output_type": "execute_result"
    }
   ],
   "source": [
    "h=np.random.rand(2,3)\n",
    "h"
   ]
  },
  {
   "cell_type": "code",
   "execution_count": 142,
   "id": "48a882f3",
   "metadata": {},
   "outputs": [
    {
     "data": {
      "text/plain": [
       "2"
      ]
     },
     "execution_count": 142,
     "metadata": {},
     "output_type": "execute_result"
    }
   ],
   "source": [
    "h.ndim"
   ]
  },
  {
   "cell_type": "code",
   "execution_count": 143,
   "id": "84879f78",
   "metadata": {},
   "outputs": [
    {
     "name": "stdout",
     "output_type": "stream",
     "text": [
      "[[0.9613443  0.73236077 0.75515557]\n",
      " [0.16594116 0.37534612 0.66112027]]\n"
     ]
    }
   ],
   "source": [
    "print(h)"
   ]
  },
  {
   "cell_type": "code",
   "execution_count": 144,
   "id": "fb164768",
   "metadata": {},
   "outputs": [],
   "source": [
    "i=np.arange(100).reshape(4,25)"
   ]
  },
  {
   "cell_type": "code",
   "execution_count": 145,
   "id": "e167c61d",
   "metadata": {},
   "outputs": [
    {
     "data": {
      "text/plain": [
       "(4, 25)"
      ]
     },
     "execution_count": 145,
     "metadata": {},
     "output_type": "execute_result"
    }
   ],
   "source": [
    "i.shape"
   ]
  },
  {
   "cell_type": "code",
   "execution_count": 146,
   "id": "ae4b1a52",
   "metadata": {},
   "outputs": [
    {
     "name": "stdout",
     "output_type": "stream",
     "text": [
      "[[ 0  1  2  3  4  5  6  7  8  9 10 11 12 13 14 15 16 17 18 19 20 21 22 23\n",
      "  24]\n",
      " [25 26 27 28 29 30 31 32 33 34 35 36 37 38 39 40 41 42 43 44 45 46 47 48\n",
      "  49]\n",
      " [50 51 52 53 54 55 56 57 58 59 60 61 62 63 64 65 66 67 68 69 70 71 72 73\n",
      "  74]\n",
      " [75 76 77 78 79 80 81 82 83 84 85 86 87 88 89 90 91 92 93 94 95 96 97 98\n",
      "  99]]\n"
     ]
    }
   ],
   "source": [
    "print(i)"
   ]
  },
  {
   "cell_type": "code",
   "execution_count": 147,
   "id": "40adc343",
   "metadata": {},
   "outputs": [],
   "source": [
    "i=np.arange(100).reshape(4,5,5)"
   ]
  },
  {
   "cell_type": "code",
   "execution_count": 148,
   "id": "9b37eb0b",
   "metadata": {},
   "outputs": [
    {
     "name": "stdout",
     "output_type": "stream",
     "text": [
      "[[[ 0  1  2  3  4]\n",
      "  [ 5  6  7  8  9]\n",
      "  [10 11 12 13 14]\n",
      "  [15 16 17 18 19]\n",
      "  [20 21 22 23 24]]\n",
      "\n",
      " [[25 26 27 28 29]\n",
      "  [30 31 32 33 34]\n",
      "  [35 36 37 38 39]\n",
      "  [40 41 42 43 44]\n",
      "  [45 46 47 48 49]]\n",
      "\n",
      " [[50 51 52 53 54]\n",
      "  [55 56 57 58 59]\n",
      "  [60 61 62 63 64]\n",
      "  [65 66 67 68 69]\n",
      "  [70 71 72 73 74]]\n",
      "\n",
      " [[75 76 77 78 79]\n",
      "  [80 81 82 83 84]\n",
      "  [85 86 87 88 89]\n",
      "  [90 91 92 93 94]\n",
      "  [95 96 97 98 99]]]\n"
     ]
    }
   ],
   "source": [
    "print(i)"
   ]
  },
  {
   "cell_type": "code",
   "execution_count": 149,
   "id": "17a6f593",
   "metadata": {},
   "outputs": [],
   "source": [
    "np.zeros?"
   ]
  },
  {
   "cell_type": "code",
   "execution_count": 150,
   "id": "8dc6e5e3",
   "metadata": {},
   "outputs": [],
   "source": [
    "#np.ones?\n",
    "#np.like?\n",
    "#other functions to generate matrix fast and test our algo"
   ]
  },
  {
   "cell_type": "code",
   "execution_count": 151,
   "id": "d13b901a",
   "metadata": {},
   "outputs": [],
   "source": [
    "j=np.arange(100)"
   ]
  },
  {
   "cell_type": "code",
   "execution_count": 152,
   "id": "dced4cc1",
   "metadata": {},
   "outputs": [],
   "source": [
    "k=j[3:10]"
   ]
  },
  {
   "cell_type": "code",
   "execution_count": 153,
   "id": "4df48ad2",
   "metadata": {},
   "outputs": [
    {
     "name": "stdout",
     "output_type": "stream",
     "text": [
      "[3 4 5 6 7 8 9]\n"
     ]
    }
   ],
   "source": [
    "print(k)"
   ]
  },
  {
   "cell_type": "code",
   "execution_count": 154,
   "id": "8a372118",
   "metadata": {},
   "outputs": [],
   "source": [
    "k[0]=-1200"
   ]
  },
  {
   "cell_type": "code",
   "execution_count": 155,
   "id": "c8a4188b",
   "metadata": {},
   "outputs": [
    {
     "data": {
      "text/plain": [
       "array([-1200,     4,     5,     6,     7,     8,     9])"
      ]
     },
     "execution_count": 155,
     "metadata": {},
     "output_type": "execute_result"
    }
   ],
   "source": [
    "k"
   ]
  },
  {
   "cell_type": "code",
   "execution_count": 156,
   "id": "e5363e7f",
   "metadata": {},
   "outputs": [
    {
     "data": {
      "text/plain": [
       "array([    0,     1,     2, -1200,     4,     5,     6,     7,     8,\n",
       "           9,    10,    11,    12,    13,    14,    15,    16,    17,\n",
       "          18,    19,    20,    21,    22,    23,    24,    25,    26,\n",
       "          27,    28,    29,    30,    31,    32,    33,    34,    35,\n",
       "          36,    37,    38,    39,    40,    41,    42,    43,    44,\n",
       "          45,    46,    47,    48,    49,    50,    51,    52,    53,\n",
       "          54,    55,    56,    57,    58,    59,    60,    61,    62,\n",
       "          63,    64,    65,    66,    67,    68,    69,    70,    71,\n",
       "          72,    73,    74,    75,    76,    77,    78,    79,    80,\n",
       "          81,    82,    83,    84,    85,    86,    87,    88,    89,\n",
       "          90,    91,    92,    93,    94,    95,    96,    97,    98,\n",
       "          99])"
      ]
     },
     "execution_count": 156,
     "metadata": {},
     "output_type": "execute_result"
    }
   ],
   "source": [
    "j"
   ]
  },
  {
   "cell_type": "code",
   "execution_count": 157,
   "id": "3cbef94f",
   "metadata": {},
   "outputs": [
    {
     "data": {
      "text/plain": [
       "array([-1200,     4,     5,     6,     7,     8,     9])"
      ]
     },
     "execution_count": 157,
     "metadata": {},
     "output_type": "execute_result"
    }
   ],
   "source": [
    "k=j[3:10].copy()\n",
    "k"
   ]
  },
  {
   "cell_type": "code",
   "execution_count": 158,
   "id": "da2d1f51",
   "metadata": {},
   "outputs": [
    {
     "data": {
      "text/plain": [
       "array([ 0,  4,  8, 12, 16, 20, 24, 28, 32, 36, 40, 44, 48, 52, 56, 60, 64,\n",
       "       68, 72, 76, 80, 84, 88, 92, 96])"
      ]
     },
     "execution_count": 158,
     "metadata": {},
     "output_type": "execute_result"
    }
   ],
   "source": [
    "j[::4]"
   ]
  },
  {
   "cell_type": "code",
   "execution_count": 159,
   "id": "52b518d4",
   "metadata": {},
   "outputs": [
    {
     "data": {
      "text/plain": [
       "array([   99,    95,    91,    87,    83,    79,    75,    71,    67,\n",
       "          63,    59,    55,    51,    47,    43,    39,    35,    31,\n",
       "          27,    23,    19,    15,    11,     7, -1200])"
      ]
     },
     "execution_count": 159,
     "metadata": {},
     "output_type": "execute_result"
    }
   ],
   "source": [
    "j[::-4]"
   ]
  },
  {
   "cell_type": "code",
   "execution_count": 160,
   "id": "5f5d5418",
   "metadata": {},
   "outputs": [
    {
     "data": {
      "text/plain": [
       "array([   99,    98,    97,    96,    95,    94,    93,    92,    91,\n",
       "          90,    89,    88,    87,    86,    85,    84,    83,    82,\n",
       "          81,    80,    79,    78,    77,    76,    75,    74,    73,\n",
       "          72,    71,    70,    69,    68,    67,    66,    65,    64,\n",
       "          63,    62,    61,    60,    59,    58,    57,    56,    55,\n",
       "          54,    53,    52,    51,    50,    49,    48,    47,    46,\n",
       "          45,    44,    43,    42,    41,    40,    39,    38,    37,\n",
       "          36,    35,    34,    33,    32,    31,    30,    29,    28,\n",
       "          27,    26,    25,    24,    23,    22,    21,    20,    19,\n",
       "          18,    17,    16,    15,    14,    13,    12,    11,    10,\n",
       "           9,     8,     7,     6,     5,     4, -1200,     2,     1,\n",
       "           0])"
      ]
     },
     "execution_count": 160,
     "metadata": {},
     "output_type": "execute_result"
    }
   ],
   "source": [
    "j[::-1]"
   ]
  },
  {
   "cell_type": "code",
   "execution_count": 161,
   "id": "f8c6f10e",
   "metadata": {},
   "outputs": [
    {
     "data": {
      "text/plain": [
       "array([0, 0, 0, 3, 0, 0, 0, 0, 0, 0, 0, 0, 0, 0, 0, 0, 0, 0, 0, 0, 0, 0,\n",
       "       0, 0, 0, 0, 0, 0, 0, 0, 0, 0, 0, 0, 0, 0, 0, 0, 0, 0, 0, 0, 0, 0,\n",
       "       0, 0, 0, 0, 0, 0, 0, 0, 0, 0, 0, 0, 0, 0, 0, 0, 0, 0, 0, 0, 0, 0,\n",
       "       0, 0, 0, 0, 0, 0, 0, 0, 0, 0, 0, 0, 0, 0, 0, 0, 0, 0, 0, 0, 0, 0,\n",
       "       0, 0, 0, 0, 0, 0, 0, 0, 0, 0, 0, 0])"
      ]
     },
     "execution_count": 161,
     "metadata": {},
     "output_type": "execute_result"
    }
   ],
   "source": [
    "l=(j==-1200)*np.arange(j.size)\n",
    "l"
   ]
  },
  {
   "cell_type": "code",
   "execution_count": 162,
   "id": "f25ea23b",
   "metadata": {},
   "outputs": [
    {
     "data": {
      "text/plain": [
       "array([    0,     1,     2, -1200,     4,     5,     6,     7,     8,\n",
       "           9,    10,    11,    12,    13,    14,    15,    16,    17,\n",
       "          18,    19,    20,    21,    22,    23,    24,    25,    26,\n",
       "          27,    28,    29,    30,    31,    32,    33,    34,    35,\n",
       "          36,    37,    38,    39,    40,    41,    42,    43,    44,\n",
       "          45,    46,    47,    48,    49,    50,    51,    52,    53,\n",
       "          54,    55,    56,    57,    58,    59,    60,    61,    62,\n",
       "          63,    64,    65,    66,    67,    68,    69,    70,    71,\n",
       "          72,    73,    74,    75,    76,    77,    78,    79,    80,\n",
       "          81,    82,    83,    84,    85,    86,    87,    88,    89,\n",
       "          90,    91,    92,    93,    94,    95,    96,    97,    98,\n",
       "          99])"
      ]
     },
     "execution_count": 162,
     "metadata": {},
     "output_type": "execute_result"
    }
   ],
   "source": [
    "j"
   ]
  },
  {
   "cell_type": "code",
   "execution_count": 163,
   "id": "87c4903f",
   "metadata": {},
   "outputs": [
    {
     "data": {
      "text/plain": [
       "3"
      ]
     },
     "execution_count": 163,
     "metadata": {},
     "output_type": "execute_result"
    }
   ],
   "source": [
    "idx=np.argwhere(j==-1200)[0][0]\n",
    "idx"
   ]
  },
  {
   "cell_type": "code",
   "execution_count": 164,
   "id": "e750d6f8",
   "metadata": {},
   "outputs": [
    {
     "data": {
      "text/plain": [
       "array([ 0,  1,  2,  3,  4,  5,  6,  7,  8,  9, 10, 11, 12, 13, 14, 15, 16,\n",
       "       17, 18, 19, 20, 21, 22, 23, 24, 25, 26, 27, 28, 29, 30, 31, 32, 33,\n",
       "       34, 35, 36, 37, 38, 39, 40, 41, 42, 43, 44, 45, 46, 47, 48, 49, 50,\n",
       "       51, 52, 53, 54, 55, 56, 57, 58, 59, 60, 61, 62, 63, 64, 65, 66, 67,\n",
       "       68, 69, 70, 71, 72, 73, 74, 75, 76, 77, 78, 79, 80, 81, 82, 83, 84,\n",
       "       85, 86, 87, 88, 89, 90, 91, 92, 93, 94, 95, 96, 97, 98, 99])"
      ]
     },
     "execution_count": 164,
     "metadata": {},
     "output_type": "execute_result"
    }
   ],
   "source": [
    "j[idx]=3\n",
    "j"
   ]
  },
  {
   "cell_type": "code",
   "execution_count": 165,
   "id": "efed2de0",
   "metadata": {},
   "outputs": [
    {
     "data": {
      "text/plain": [
       "array([[ 5.,  4.,  9.,  4.],\n",
       "       [ 4.,  8.,  8.,  1.],\n",
       "       [ 2.,  3.,  7.,  4.],\n",
       "       [ 5.,  6., 10.,  2.],\n",
       "       [ 9.,  9.,  1., 10.]])"
      ]
     },
     "execution_count": 165,
     "metadata": {},
     "output_type": "execute_result"
    }
   ],
   "source": [
    "j=np.round(10*np.random.rand(5,4))\n",
    "j"
   ]
  },
  {
   "cell_type": "code",
   "execution_count": 166,
   "id": "72598091",
   "metadata": {},
   "outputs": [
    {
     "data": {
      "text/plain": [
       "9.0"
      ]
     },
     "execution_count": 166,
     "metadata": {},
     "output_type": "execute_result"
    }
   ],
   "source": [
    "j[0,2]"
   ]
  },
  {
   "cell_type": "code",
   "execution_count": 167,
   "id": "b546b4d6",
   "metadata": {},
   "outputs": [
    {
     "data": {
      "text/plain": [
       "array([4., 8., 8., 1.])"
      ]
     },
     "execution_count": 167,
     "metadata": {},
     "output_type": "execute_result"
    }
   ],
   "source": [
    "j[1,:]"
   ]
  },
  {
   "cell_type": "code",
   "execution_count": 168,
   "id": "14a364c0",
   "metadata": {},
   "outputs": [
    {
     "data": {
      "text/plain": [
       "array([[8., 1.],\n",
       "       [7., 4.]])"
      ]
     },
     "execution_count": 168,
     "metadata": {},
     "output_type": "execute_result"
    }
   ],
   "source": [
    "j[1:3,2:4]"
   ]
  },
  {
   "cell_type": "code",
   "execution_count": 169,
   "id": "4340c998",
   "metadata": {},
   "outputs": [
    {
     "data": {
      "text/plain": [
       "array([[ 5.,  4.,  2.,  5.,  9.],\n",
       "       [ 4.,  8.,  3.,  6.,  9.],\n",
       "       [ 9.,  8.,  7., 10.,  1.],\n",
       "       [ 4.,  1.,  4.,  2., 10.]])"
      ]
     },
     "execution_count": 169,
     "metadata": {},
     "output_type": "execute_result"
    }
   ],
   "source": [
    "j.T"
   ]
  },
  {
   "cell_type": "code",
   "execution_count": 170,
   "id": "92fde32a",
   "metadata": {},
   "outputs": [],
   "source": [
    "import numpy.linalg as la"
   ]
  },
  {
   "cell_type": "code",
   "execution_count": 171,
   "id": "c8eaddc5",
   "metadata": {},
   "outputs": [
    {
     "data": {
      "text/plain": [
       "array([[ 3.45401283, -4.95185655,  2.23639872],\n",
       "       [-0.0845634 ,  2.9266203 , -1.54943097],\n",
       "       [-1.75853502,  2.39940975,  0.03836965]])"
      ]
     },
     "execution_count": 171,
     "metadata": {},
     "output_type": "execute_result"
    }
   ],
   "source": [
    "la.inv(np.random.rand(3,3))"
   ]
  },
  {
   "cell_type": "code",
   "execution_count": 172,
   "id": "9644cefd",
   "metadata": {},
   "outputs": [
    {
     "data": {
      "text/plain": [
       "array([[ 5.,  4.,  9.,  4.],\n",
       "       [ 4.,  8.,  8.,  1.],\n",
       "       [ 2.,  3.,  7.,  4.],\n",
       "       [ 5.,  6., 10.,  2.],\n",
       "       [ 9.,  9.,  1., 10.]])"
      ]
     },
     "execution_count": 172,
     "metadata": {},
     "output_type": "execute_result"
    }
   ],
   "source": [
    "j"
   ]
  },
  {
   "cell_type": "code",
   "execution_count": 173,
   "id": "e6b1a038",
   "metadata": {},
   "outputs": [],
   "source": [
    "j.sort(axis=0)"
   ]
  },
  {
   "cell_type": "code",
   "execution_count": 174,
   "id": "ae5c1aee",
   "metadata": {},
   "outputs": [
    {
     "data": {
      "text/plain": [
       "array([[ 2.,  3.,  1.,  1.],\n",
       "       [ 4.,  4.,  7.,  2.],\n",
       "       [ 5.,  6.,  8.,  4.],\n",
       "       [ 5.,  8.,  9.,  4.],\n",
       "       [ 9.,  9., 10., 10.]])"
      ]
     },
     "execution_count": 174,
     "metadata": {},
     "output_type": "execute_result"
    }
   ],
   "source": [
    "j"
   ]
  },
  {
   "cell_type": "code",
   "execution_count": 175,
   "id": "ce3323a6",
   "metadata": {},
   "outputs": [],
   "source": [
    "j.sort(axis=1)"
   ]
  },
  {
   "cell_type": "code",
   "execution_count": 176,
   "id": "bba9d2f7",
   "metadata": {},
   "outputs": [
    {
     "data": {
      "text/plain": [
       "array([[ 1.,  1.,  2.,  3.],\n",
       "       [ 2.,  4.,  4.,  7.],\n",
       "       [ 4.,  5.,  6.,  8.],\n",
       "       [ 4.,  5.,  8.,  9.],\n",
       "       [ 9.,  9., 10., 10.]])"
      ]
     },
     "execution_count": 176,
     "metadata": {},
     "output_type": "execute_result"
    }
   ],
   "source": [
    "j"
   ]
  },
  {
   "cell_type": "code",
   "execution_count": 177,
   "id": "bc964c71",
   "metadata": {},
   "outputs": [],
   "source": [
    "j=j+5"
   ]
  },
  {
   "cell_type": "code",
   "execution_count": 178,
   "id": "e7238aa3",
   "metadata": {},
   "outputs": [
    {
     "data": {
      "text/plain": [
       "array([[ 6.,  6.,  7.,  8.],\n",
       "       [ 7.,  9.,  9., 12.],\n",
       "       [ 9., 10., 11., 13.],\n",
       "       [ 9., 10., 13., 14.],\n",
       "       [14., 14., 15., 15.]])"
      ]
     },
     "execution_count": 178,
     "metadata": {},
     "output_type": "execute_result"
    }
   ],
   "source": [
    "j"
   ]
  },
  {
   "cell_type": "code",
   "execution_count": 179,
   "id": "4538361d",
   "metadata": {},
   "outputs": [],
   "source": [
    "#universal functions are very powerful"
   ]
  },
  {
   "cell_type": "code",
   "execution_count": 180,
   "id": "79ab9c4c",
   "metadata": {},
   "outputs": [],
   "source": [
    "j=np.round(10*np.random.rand(2,3))"
   ]
  },
  {
   "cell_type": "code",
   "execution_count": 181,
   "id": "ecfd67e3",
   "metadata": {},
   "outputs": [
    {
     "data": {
      "text/plain": [
       "array([[10.,  9.,  2.],\n",
       "       [10.,  3.,  2.]])"
      ]
     },
     "execution_count": 181,
     "metadata": {},
     "output_type": "execute_result"
    }
   ],
   "source": [
    "j"
   ]
  },
  {
   "cell_type": "code",
   "execution_count": 182,
   "id": "1936bcb8",
   "metadata": {},
   "outputs": [
    {
     "data": {
      "text/plain": [
       "array([[7., 6.],\n",
       "       [2., 7.]])"
      ]
     },
     "execution_count": 182,
     "metadata": {},
     "output_type": "execute_result"
    }
   ],
   "source": [
    "m=np.round(10*np.random.rand(2,2))\n",
    "m"
   ]
  },
  {
   "cell_type": "code",
   "execution_count": 183,
   "id": "3b46eb29",
   "metadata": {},
   "outputs": [
    {
     "data": {
      "text/plain": [
       "array([[10.,  9.,  2.,  7.,  6.],\n",
       "       [10.,  3.,  2.,  2.,  7.]])"
      ]
     },
     "execution_count": 183,
     "metadata": {},
     "output_type": "execute_result"
    }
   ],
   "source": [
    "n=np.hstack((j,m))\n",
    "n"
   ]
  },
  {
   "cell_type": "code",
   "execution_count": 184,
   "id": "ef0273e4",
   "metadata": {},
   "outputs": [
    {
     "data": {
      "text/plain": [
       "array([7., 7., 3., 2., 6., 7., 2., 0., 6., 4.])"
      ]
     },
     "execution_count": 184,
     "metadata": {},
     "output_type": "execute_result"
    }
   ],
   "source": [
    "m=np.round(10*np.random.rand(10))\n",
    "m"
   ]
  },
  {
   "cell_type": "code",
   "execution_count": 185,
   "id": "d0be0c56",
   "metadata": {},
   "outputs": [],
   "source": [
    "m.sort()"
   ]
  },
  {
   "cell_type": "code",
   "execution_count": 186,
   "id": "a082ae5a",
   "metadata": {},
   "outputs": [
    {
     "data": {
      "text/plain": [
       "array([0., 2., 2., 3., 4., 6., 6., 7., 7., 7.])"
      ]
     },
     "execution_count": 186,
     "metadata": {},
     "output_type": "execute_result"
    }
   ],
   "source": [
    "m"
   ]
  },
  {
   "cell_type": "code",
   "execution_count": 187,
   "id": "690b11bf",
   "metadata": {},
   "outputs": [],
   "source": [
    "m=m[::-1]"
   ]
  },
  {
   "cell_type": "code",
   "execution_count": 188,
   "id": "7e69b01e",
   "metadata": {},
   "outputs": [
    {
     "data": {
      "text/plain": [
       "array([7., 7., 7., 6., 6., 4., 3., 2., 2., 0.])"
      ]
     },
     "execution_count": 188,
     "metadata": {},
     "output_type": "execute_result"
    }
   ],
   "source": [
    "m"
   ]
  },
  {
   "cell_type": "code",
   "execution_count": 189,
   "id": "36708b5d",
   "metadata": {},
   "outputs": [],
   "source": [
    "#sort can also use in alphabetical order"
   ]
  },
  {
   "cell_type": "code",
   "execution_count": 190,
   "id": "bf19be55",
   "metadata": {},
   "outputs": [
    {
     "name": "stdout",
     "output_type": "stream",
     "text": [
      "6.53 ms ± 248 µs per loop (mean ± std. dev. of 7 runs, 100 loops each)\n",
      "37.4 µs ± 1.62 µs per loop (mean ± std. dev. of 7 runs, 10,000 loops each)\n"
     ]
    }
   ],
   "source": [
    "m=np.random.rand(100000)\n",
    "%timeit sum(m)\n",
    "%timeit np.sum(m)"
   ]
  },
  {
   "cell_type": "code",
   "execution_count": 191,
   "id": "a36e36f7",
   "metadata": {},
   "outputs": [],
   "source": [
    "def mysum(G):\n",
    "    s=0\n",
    "    for x in G:\n",
    "        s+=x\n",
    "    return s"
   ]
  },
  {
   "cell_type": "code",
   "execution_count": 192,
   "id": "522df5a9",
   "metadata": {},
   "outputs": [
    {
     "name": "stdout",
     "output_type": "stream",
     "text": [
      "10.2 ms ± 1.5 ms per loop (mean ± std. dev. of 7 runs, 100 loops each)\n"
     ]
    }
   ],
   "source": [
    "%timeit mysum(m)"
   ]
  },
  {
   "cell_type": "code",
   "execution_count": 193,
   "id": "e0dac1bb",
   "metadata": {},
   "outputs": [],
   "source": [
    "import pandas as pd"
   ]
  },
  {
   "cell_type": "code",
   "execution_count": 194,
   "id": "2a266a32",
   "metadata": {},
   "outputs": [
    {
     "name": "stdout",
     "output_type": "stream",
     "text": [
      "1.4.3\n"
     ]
    }
   ],
   "source": [
    "print(pd.__version__)"
   ]
  },
  {
   "cell_type": "code",
   "execution_count": 195,
   "id": "fbbc60ed",
   "metadata": {},
   "outputs": [],
   "source": [
    "A=pd.Series([2,3,4,5],index=['a','b','c','d'])"
   ]
  },
  {
   "cell_type": "code",
   "execution_count": 196,
   "id": "616e8397",
   "metadata": {},
   "outputs": [
    {
     "data": {
      "text/plain": [
       "array([2, 3, 4, 5], dtype=int64)"
      ]
     },
     "execution_count": 196,
     "metadata": {},
     "output_type": "execute_result"
    }
   ],
   "source": [
    "A.values"
   ]
  },
  {
   "cell_type": "code",
   "execution_count": 197,
   "id": "a4a27683",
   "metadata": {},
   "outputs": [
    {
     "data": {
      "text/plain": [
       "numpy.ndarray"
      ]
     },
     "execution_count": 197,
     "metadata": {},
     "output_type": "execute_result"
    }
   ],
   "source": [
    "type(A.values)"
   ]
  },
  {
   "cell_type": "code",
   "execution_count": 198,
   "id": "28d62e7d",
   "metadata": {},
   "outputs": [
    {
     "data": {
      "text/plain": [
       "pandas.core.series.Series"
      ]
     },
     "execution_count": 198,
     "metadata": {},
     "output_type": "execute_result"
    }
   ],
   "source": [
    "type(A)"
   ]
  },
  {
   "cell_type": "code",
   "execution_count": 199,
   "id": "7d2d8f82",
   "metadata": {},
   "outputs": [
    {
     "data": {
      "text/plain": [
       "Index(['a', 'b', 'c', 'd'], dtype='object')"
      ]
     },
     "execution_count": 199,
     "metadata": {},
     "output_type": "execute_result"
    }
   ],
   "source": [
    "A.index"
   ]
  },
  {
   "cell_type": "code",
   "execution_count": 200,
   "id": "c6fe1281",
   "metadata": {},
   "outputs": [
    {
     "data": {
      "text/plain": [
       "2"
      ]
     },
     "execution_count": 200,
     "metadata": {},
     "output_type": "execute_result"
    }
   ],
   "source": [
    "A['a']"
   ]
  },
  {
   "cell_type": "code",
   "execution_count": 201,
   "id": "181f6117",
   "metadata": {},
   "outputs": [
    {
     "data": {
      "text/plain": [
       "a    2\n",
       "b    3\n",
       "c    4\n",
       "dtype: int64"
      ]
     },
     "execution_count": 201,
     "metadata": {},
     "output_type": "execute_result"
    }
   ],
   "source": [
    "A['a':'c']"
   ]
  },
  {
   "cell_type": "code",
   "execution_count": 223,
   "id": "06cebc1a",
   "metadata": {},
   "outputs": [
    {
     "data": {
      "text/html": [
       "<div>\n",
       "<style scoped>\n",
       "    .dataframe tbody tr th:only-of-type {\n",
       "        vertical-align: middle;\n",
       "    }\n",
       "\n",
       "    .dataframe tbody tr th {\n",
       "        vertical-align: top;\n",
       "    }\n",
       "\n",
       "    .dataframe thead th {\n",
       "        text-align: right;\n",
       "    }\n",
       "</style>\n",
       "<table border=\"1\" class=\"dataframe\">\n",
       "  <thead>\n",
       "    <tr style=\"text-align: right;\">\n",
       "      <th></th>\n",
       "      <th>Marks</th>\n",
       "      <th>Gradees</th>\n",
       "    </tr>\n",
       "  </thead>\n",
       "  <tbody>\n",
       "    <tr>\n",
       "      <th>a</th>\n",
       "      <td>2</td>\n",
       "      <td>2</td>\n",
       "    </tr>\n",
       "    <tr>\n",
       "      <th>b</th>\n",
       "      <td>3</td>\n",
       "      <td>3</td>\n",
       "    </tr>\n",
       "    <tr>\n",
       "      <th>c</th>\n",
       "      <td>4</td>\n",
       "      <td>4</td>\n",
       "    </tr>\n",
       "    <tr>\n",
       "      <th>d</th>\n",
       "      <td>5</td>\n",
       "      <td>5</td>\n",
       "    </tr>\n",
       "  </tbody>\n",
       "</table>\n",
       "</div>"
      ],
      "text/plain": [
       "   Marks  Gradees\n",
       "a      2        2\n",
       "b      3        3\n",
       "c      4        4\n",
       "d      5        5"
      ]
     },
     "execution_count": 223,
     "metadata": {},
     "output_type": "execute_result"
    }
   ],
   "source": [
    "D=pd.DataFrame({'Marks':A,'Gradees':A})\n",
    "D"
   ]
  },
  {
   "cell_type": "code",
   "execution_count": 224,
   "id": "6c8e868f",
   "metadata": {},
   "outputs": [
    {
     "data": {
      "text/html": [
       "<div>\n",
       "<style scoped>\n",
       "    .dataframe tbody tr th:only-of-type {\n",
       "        vertical-align: middle;\n",
       "    }\n",
       "\n",
       "    .dataframe tbody tr th {\n",
       "        vertical-align: top;\n",
       "    }\n",
       "\n",
       "    .dataframe thead th {\n",
       "        text-align: right;\n",
       "    }\n",
       "</style>\n",
       "<table border=\"1\" class=\"dataframe\">\n",
       "  <thead>\n",
       "    <tr style=\"text-align: right;\">\n",
       "      <th></th>\n",
       "      <th>a</th>\n",
       "      <th>b</th>\n",
       "      <th>c</th>\n",
       "      <th>d</th>\n",
       "    </tr>\n",
       "  </thead>\n",
       "  <tbody>\n",
       "    <tr>\n",
       "      <th>Marks</th>\n",
       "      <td>2</td>\n",
       "      <td>3</td>\n",
       "      <td>4</td>\n",
       "      <td>5</td>\n",
       "    </tr>\n",
       "    <tr>\n",
       "      <th>Gradees</th>\n",
       "      <td>2</td>\n",
       "      <td>3</td>\n",
       "      <td>4</td>\n",
       "      <td>5</td>\n",
       "    </tr>\n",
       "  </tbody>\n",
       "</table>\n",
       "</div>"
      ],
      "text/plain": [
       "         a  b  c  d\n",
       "Marks    2  3  4  5\n",
       "Gradees  2  3  4  5"
      ]
     },
     "execution_count": 224,
     "metadata": {},
     "output_type": "execute_result"
    }
   ],
   "source": [
    "D.T"
   ]
  },
  {
   "cell_type": "code",
   "execution_count": 225,
   "id": "afdcb592",
   "metadata": {},
   "outputs": [
    {
     "data": {
      "text/html": [
       "<div>\n",
       "<style scoped>\n",
       "    .dataframe tbody tr th:only-of-type {\n",
       "        vertical-align: middle;\n",
       "    }\n",
       "\n",
       "    .dataframe tbody tr th {\n",
       "        vertical-align: top;\n",
       "    }\n",
       "\n",
       "    .dataframe thead th {\n",
       "        text-align: right;\n",
       "    }\n",
       "</style>\n",
       "<table border=\"1\" class=\"dataframe\">\n",
       "  <thead>\n",
       "    <tr style=\"text-align: right;\">\n",
       "      <th></th>\n",
       "      <th>Marks</th>\n",
       "      <th>Gradees</th>\n",
       "    </tr>\n",
       "  </thead>\n",
       "  <tbody>\n",
       "    <tr>\n",
       "      <th>a</th>\n",
       "      <td>2</td>\n",
       "      <td>2</td>\n",
       "    </tr>\n",
       "    <tr>\n",
       "      <th>b</th>\n",
       "      <td>3</td>\n",
       "      <td>3</td>\n",
       "    </tr>\n",
       "    <tr>\n",
       "      <th>c</th>\n",
       "      <td>4</td>\n",
       "      <td>4</td>\n",
       "    </tr>\n",
       "    <tr>\n",
       "      <th>d</th>\n",
       "      <td>5</td>\n",
       "      <td>5</td>\n",
       "    </tr>\n",
       "  </tbody>\n",
       "</table>\n",
       "</div>"
      ],
      "text/plain": [
       "   Marks  Gradees\n",
       "a      2        2\n",
       "b      3        3\n",
       "c      4        4\n",
       "d      5        5"
      ]
     },
     "execution_count": 225,
     "metadata": {},
     "output_type": "execute_result"
    }
   ],
   "source": [
    "D"
   ]
  },
  {
   "cell_type": "code",
   "execution_count": 226,
   "id": "a0a49081",
   "metadata": {},
   "outputs": [
    {
     "data": {
      "text/plain": [
       "array([[2, 2],\n",
       "       [3, 3],\n",
       "       [4, 4],\n",
       "       [5, 5]], dtype=int64)"
      ]
     },
     "execution_count": 226,
     "metadata": {},
     "output_type": "execute_result"
    }
   ],
   "source": [
    "D.values"
   ]
  },
  {
   "cell_type": "code",
   "execution_count": 233,
   "id": "602b75ad",
   "metadata": {},
   "outputs": [
    {
     "name": "stdout",
     "output_type": "stream",
     "text": [
      "2\n",
      "3\n",
      "4\n",
      "5\n"
     ]
    }
   ],
   "source": [
    "for idx in range(4):\n",
    "    print(D.values[idx,0])"
   ]
  },
  {
   "cell_type": "code",
   "execution_count": 207,
   "id": "d9c44001",
   "metadata": {},
   "outputs": [
    {
     "data": {
      "text/plain": [
       "Index(['Marks', 'Gradees'], dtype='object')"
      ]
     },
     "execution_count": 207,
     "metadata": {},
     "output_type": "execute_result"
    }
   ],
   "source": [
    "D.columns"
   ]
  },
  {
   "cell_type": "code",
   "execution_count": 208,
   "id": "965ad969",
   "metadata": {},
   "outputs": [
    {
     "data": {
      "text/html": [
       "<div>\n",
       "<style scoped>\n",
       "    .dataframe tbody tr th:only-of-type {\n",
       "        vertical-align: middle;\n",
       "    }\n",
       "\n",
       "    .dataframe tbody tr th {\n",
       "        vertical-align: top;\n",
       "    }\n",
       "\n",
       "    .dataframe thead th {\n",
       "        text-align: right;\n",
       "    }\n",
       "</style>\n",
       "<table border=\"1\" class=\"dataframe\">\n",
       "  <thead>\n",
       "    <tr style=\"text-align: right;\">\n",
       "      <th></th>\n",
       "      <th>Marks</th>\n",
       "      <th>Gradees</th>\n",
       "    </tr>\n",
       "  </thead>\n",
       "  <tbody>\n",
       "    <tr>\n",
       "      <th>a</th>\n",
       "      <td>2</td>\n",
       "      <td>2</td>\n",
       "    </tr>\n",
       "    <tr>\n",
       "      <th>b</th>\n",
       "      <td>3</td>\n",
       "      <td>3</td>\n",
       "    </tr>\n",
       "    <tr>\n",
       "      <th>c</th>\n",
       "      <td>4</td>\n",
       "      <td>4</td>\n",
       "    </tr>\n",
       "    <tr>\n",
       "      <th>d</th>\n",
       "      <td>5</td>\n",
       "      <td>5</td>\n",
       "    </tr>\n",
       "  </tbody>\n",
       "</table>\n",
       "</div>"
      ],
      "text/plain": [
       "   Marks  Gradees\n",
       "a      2        2\n",
       "b      3        3\n",
       "c      4        4\n",
       "d      5        5"
      ]
     },
     "execution_count": 208,
     "metadata": {},
     "output_type": "execute_result"
    }
   ],
   "source": [
    "D"
   ]
  },
  {
   "cell_type": "code",
   "execution_count": 209,
   "id": "171c78bd",
   "metadata": {},
   "outputs": [],
   "source": [
    "D['SacledMarks']=D['Marks']*100/5"
   ]
  },
  {
   "cell_type": "code",
   "execution_count": 210,
   "id": "ff6cbfbd",
   "metadata": {},
   "outputs": [
    {
     "data": {
      "text/html": [
       "<div>\n",
       "<style scoped>\n",
       "    .dataframe tbody tr th:only-of-type {\n",
       "        vertical-align: middle;\n",
       "    }\n",
       "\n",
       "    .dataframe tbody tr th {\n",
       "        vertical-align: top;\n",
       "    }\n",
       "\n",
       "    .dataframe thead th {\n",
       "        text-align: right;\n",
       "    }\n",
       "</style>\n",
       "<table border=\"1\" class=\"dataframe\">\n",
       "  <thead>\n",
       "    <tr style=\"text-align: right;\">\n",
       "      <th></th>\n",
       "      <th>Marks</th>\n",
       "      <th>Gradees</th>\n",
       "      <th>SacledMarks</th>\n",
       "    </tr>\n",
       "  </thead>\n",
       "  <tbody>\n",
       "    <tr>\n",
       "      <th>a</th>\n",
       "      <td>2</td>\n",
       "      <td>2</td>\n",
       "      <td>40.0</td>\n",
       "    </tr>\n",
       "    <tr>\n",
       "      <th>b</th>\n",
       "      <td>3</td>\n",
       "      <td>3</td>\n",
       "      <td>60.0</td>\n",
       "    </tr>\n",
       "    <tr>\n",
       "      <th>c</th>\n",
       "      <td>4</td>\n",
       "      <td>4</td>\n",
       "      <td>80.0</td>\n",
       "    </tr>\n",
       "    <tr>\n",
       "      <th>d</th>\n",
       "      <td>5</td>\n",
       "      <td>5</td>\n",
       "      <td>100.0</td>\n",
       "    </tr>\n",
       "  </tbody>\n",
       "</table>\n",
       "</div>"
      ],
      "text/plain": [
       "   Marks  Gradees  SacledMarks\n",
       "a      2        2         40.0\n",
       "b      3        3         60.0\n",
       "c      4        4         80.0\n",
       "d      5        5        100.0"
      ]
     },
     "execution_count": 210,
     "metadata": {},
     "output_type": "execute_result"
    }
   ],
   "source": [
    "D"
   ]
  },
  {
   "cell_type": "code",
   "execution_count": 211,
   "id": "b21a56da",
   "metadata": {},
   "outputs": [],
   "source": [
    "del D['SacledMarks']"
   ]
  },
  {
   "cell_type": "code",
   "execution_count": 212,
   "id": "cea077cc",
   "metadata": {},
   "outputs": [
    {
     "data": {
      "text/html": [
       "<div>\n",
       "<style scoped>\n",
       "    .dataframe tbody tr th:only-of-type {\n",
       "        vertical-align: middle;\n",
       "    }\n",
       "\n",
       "    .dataframe tbody tr th {\n",
       "        vertical-align: top;\n",
       "    }\n",
       "\n",
       "    .dataframe thead th {\n",
       "        text-align: right;\n",
       "    }\n",
       "</style>\n",
       "<table border=\"1\" class=\"dataframe\">\n",
       "  <thead>\n",
       "    <tr style=\"text-align: right;\">\n",
       "      <th></th>\n",
       "      <th>Marks</th>\n",
       "      <th>Gradees</th>\n",
       "    </tr>\n",
       "  </thead>\n",
       "  <tbody>\n",
       "    <tr>\n",
       "      <th>a</th>\n",
       "      <td>2</td>\n",
       "      <td>2</td>\n",
       "    </tr>\n",
       "    <tr>\n",
       "      <th>b</th>\n",
       "      <td>3</td>\n",
       "      <td>3</td>\n",
       "    </tr>\n",
       "    <tr>\n",
       "      <th>c</th>\n",
       "      <td>4</td>\n",
       "      <td>4</td>\n",
       "    </tr>\n",
       "    <tr>\n",
       "      <th>d</th>\n",
       "      <td>5</td>\n",
       "      <td>5</td>\n",
       "    </tr>\n",
       "  </tbody>\n",
       "</table>\n",
       "</div>"
      ],
      "text/plain": [
       "   Marks  Gradees\n",
       "a      2        2\n",
       "b      3        3\n",
       "c      4        4\n",
       "d      5        5"
      ]
     },
     "execution_count": 212,
     "metadata": {},
     "output_type": "execute_result"
    }
   ],
   "source": [
    "D"
   ]
  },
  {
   "cell_type": "code",
   "execution_count": 213,
   "id": "54a6a070",
   "metadata": {},
   "outputs": [
    {
     "data": {
      "text/html": [
       "<div>\n",
       "<style scoped>\n",
       "    .dataframe tbody tr th:only-of-type {\n",
       "        vertical-align: middle;\n",
       "    }\n",
       "\n",
       "    .dataframe tbody tr th {\n",
       "        vertical-align: top;\n",
       "    }\n",
       "\n",
       "    .dataframe thead th {\n",
       "        text-align: right;\n",
       "    }\n",
       "</style>\n",
       "<table border=\"1\" class=\"dataframe\">\n",
       "  <thead>\n",
       "    <tr style=\"text-align: right;\">\n",
       "      <th></th>\n",
       "      <th>Marks</th>\n",
       "      <th>Gradees</th>\n",
       "    </tr>\n",
       "  </thead>\n",
       "  <tbody>\n",
       "    <tr>\n",
       "      <th>a</th>\n",
       "      <td>2</td>\n",
       "      <td>2</td>\n",
       "    </tr>\n",
       "    <tr>\n",
       "      <th>b</th>\n",
       "      <td>3</td>\n",
       "      <td>3</td>\n",
       "    </tr>\n",
       "    <tr>\n",
       "      <th>c</th>\n",
       "      <td>4</td>\n",
       "      <td>4</td>\n",
       "    </tr>\n",
       "  </tbody>\n",
       "</table>\n",
       "</div>"
      ],
      "text/plain": [
       "   Marks  Gradees\n",
       "a      2        2\n",
       "b      3        3\n",
       "c      4        4"
      ]
     },
     "execution_count": 213,
     "metadata": {},
     "output_type": "execute_result"
    }
   ],
   "source": [
    "G=D[D['Marks']<=4]\n",
    "G"
   ]
  },
  {
   "cell_type": "code",
   "execution_count": 214,
   "id": "4686db28",
   "metadata": {},
   "outputs": [],
   "source": [
    "D=pd.DataFrame([{'a':1,'b':2},{'b':3,'c':4}])"
   ]
  },
  {
   "cell_type": "code",
   "execution_count": 215,
   "id": "622e9823",
   "metadata": {},
   "outputs": [
    {
     "data": {
      "text/html": [
       "<div>\n",
       "<style scoped>\n",
       "    .dataframe tbody tr th:only-of-type {\n",
       "        vertical-align: middle;\n",
       "    }\n",
       "\n",
       "    .dataframe tbody tr th {\n",
       "        vertical-align: top;\n",
       "    }\n",
       "\n",
       "    .dataframe thead th {\n",
       "        text-align: right;\n",
       "    }\n",
       "</style>\n",
       "<table border=\"1\" class=\"dataframe\">\n",
       "  <thead>\n",
       "    <tr style=\"text-align: right;\">\n",
       "      <th></th>\n",
       "      <th>a</th>\n",
       "      <th>b</th>\n",
       "      <th>c</th>\n",
       "    </tr>\n",
       "  </thead>\n",
       "  <tbody>\n",
       "    <tr>\n",
       "      <th>0</th>\n",
       "      <td>1.0</td>\n",
       "      <td>2</td>\n",
       "      <td>NaN</td>\n",
       "    </tr>\n",
       "    <tr>\n",
       "      <th>1</th>\n",
       "      <td>NaN</td>\n",
       "      <td>3</td>\n",
       "      <td>4.0</td>\n",
       "    </tr>\n",
       "  </tbody>\n",
       "</table>\n",
       "</div>"
      ],
      "text/plain": [
       "     a  b    c\n",
       "0  1.0  2  NaN\n",
       "1  NaN  3  4.0"
      ]
     },
     "execution_count": 215,
     "metadata": {},
     "output_type": "execute_result"
    }
   ],
   "source": [
    "D"
   ]
  },
  {
   "cell_type": "code",
   "execution_count": 216,
   "id": "b852827d",
   "metadata": {},
   "outputs": [
    {
     "data": {
      "text/html": [
       "<div>\n",
       "<style scoped>\n",
       "    .dataframe tbody tr th:only-of-type {\n",
       "        vertical-align: middle;\n",
       "    }\n",
       "\n",
       "    .dataframe tbody tr th {\n",
       "        vertical-align: top;\n",
       "    }\n",
       "\n",
       "    .dataframe thead th {\n",
       "        text-align: right;\n",
       "    }\n",
       "</style>\n",
       "<table border=\"1\" class=\"dataframe\">\n",
       "  <thead>\n",
       "    <tr style=\"text-align: right;\">\n",
       "      <th></th>\n",
       "      <th>a</th>\n",
       "      <th>b</th>\n",
       "      <th>c</th>\n",
       "    </tr>\n",
       "  </thead>\n",
       "  <tbody>\n",
       "    <tr>\n",
       "      <th>0</th>\n",
       "      <td>1.0</td>\n",
       "      <td>2</td>\n",
       "      <td>-1.0</td>\n",
       "    </tr>\n",
       "    <tr>\n",
       "      <th>1</th>\n",
       "      <td>-1.0</td>\n",
       "      <td>3</td>\n",
       "      <td>4.0</td>\n",
       "    </tr>\n",
       "  </tbody>\n",
       "</table>\n",
       "</div>"
      ],
      "text/plain": [
       "     a  b    c\n",
       "0  1.0  2 -1.0\n",
       "1 -1.0  3  4.0"
      ]
     },
     "execution_count": 216,
     "metadata": {},
     "output_type": "execute_result"
    }
   ],
   "source": [
    "D.fillna(-1)"
   ]
  },
  {
   "cell_type": "code",
   "execution_count": 217,
   "id": "fda8bc93",
   "metadata": {},
   "outputs": [],
   "source": [
    "D.dropna?"
   ]
  },
  {
   "cell_type": "code",
   "execution_count": 218,
   "id": "5a1c1c6e",
   "metadata": {},
   "outputs": [
    {
     "data": {
      "text/html": [
       "<div>\n",
       "<style scoped>\n",
       "    .dataframe tbody tr th:only-of-type {\n",
       "        vertical-align: middle;\n",
       "    }\n",
       "\n",
       "    .dataframe tbody tr th {\n",
       "        vertical-align: top;\n",
       "    }\n",
       "\n",
       "    .dataframe thead th {\n",
       "        text-align: right;\n",
       "    }\n",
       "</style>\n",
       "<table border=\"1\" class=\"dataframe\">\n",
       "  <thead>\n",
       "    <tr style=\"text-align: right;\">\n",
       "      <th></th>\n",
       "      <th>a</th>\n",
       "      <th>b</th>\n",
       "      <th>c</th>\n",
       "    </tr>\n",
       "  </thead>\n",
       "  <tbody>\n",
       "    <tr>\n",
       "      <th>0</th>\n",
       "      <td>1.0</td>\n",
       "      <td>2</td>\n",
       "      <td>NaN</td>\n",
       "    </tr>\n",
       "    <tr>\n",
       "      <th>1</th>\n",
       "      <td>NaN</td>\n",
       "      <td>3</td>\n",
       "      <td>4.0</td>\n",
       "    </tr>\n",
       "  </tbody>\n",
       "</table>\n",
       "</div>"
      ],
      "text/plain": [
       "     a  b    c\n",
       "0  1.0  2  NaN\n",
       "1  NaN  3  4.0"
      ]
     },
     "execution_count": 218,
     "metadata": {},
     "output_type": "execute_result"
    }
   ],
   "source": [
    "D"
   ]
  },
  {
   "cell_type": "code",
   "execution_count": 219,
   "id": "961a762e",
   "metadata": {},
   "outputs": [
    {
     "data": {
      "text/html": [
       "<div>\n",
       "<style scoped>\n",
       "    .dataframe tbody tr th:only-of-type {\n",
       "        vertical-align: middle;\n",
       "    }\n",
       "\n",
       "    .dataframe tbody tr th {\n",
       "        vertical-align: top;\n",
       "    }\n",
       "\n",
       "    .dataframe thead th {\n",
       "        text-align: right;\n",
       "    }\n",
       "</style>\n",
       "<table border=\"1\" class=\"dataframe\">\n",
       "  <thead>\n",
       "    <tr style=\"text-align: right;\">\n",
       "      <th></th>\n",
       "      <th>a</th>\n",
       "      <th>b</th>\n",
       "      <th>c</th>\n",
       "    </tr>\n",
       "  </thead>\n",
       "  <tbody>\n",
       "    <tr>\n",
       "      <th>0</th>\n",
       "      <td>1.0</td>\n",
       "      <td>2</td>\n",
       "      <td>-1.0</td>\n",
       "    </tr>\n",
       "    <tr>\n",
       "      <th>1</th>\n",
       "      <td>-1.0</td>\n",
       "      <td>3</td>\n",
       "      <td>4.0</td>\n",
       "    </tr>\n",
       "  </tbody>\n",
       "</table>\n",
       "</div>"
      ],
      "text/plain": [
       "     a  b    c\n",
       "0  1.0  2 -1.0\n",
       "1 -1.0  3  4.0"
      ]
     },
     "execution_count": 219,
     "metadata": {},
     "output_type": "execute_result"
    }
   ],
   "source": [
    "D.fillna(-1)"
   ]
  },
  {
   "cell_type": "code",
   "execution_count": null,
   "id": "68904e2d",
   "metadata": {},
   "outputs": [],
   "source": []
  }
 ],
 "metadata": {
  "kernelspec": {
   "display_name": "Python 3 (ipykernel)",
   "language": "python",
   "name": "python3"
  },
  "language_info": {
   "codemirror_mode": {
    "name": "ipython",
    "version": 3
   },
   "file_extension": ".py",
   "mimetype": "text/x-python",
   "name": "python",
   "nbconvert_exporter": "python",
   "pygments_lexer": "ipython3",
   "version": "3.10.6"
  }
 },
 "nbformat": 4,
 "nbformat_minor": 5
}
